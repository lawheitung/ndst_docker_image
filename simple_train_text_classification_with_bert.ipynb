{
 "cells": [
  {
   "cell_type": "markdown",
   "metadata": {},
   "source": [
    "# Text Classification with BERT using Neural Modules - Training"
   ]
  },
  {
   "cell_type": "markdown",
   "metadata": {},
   "source": [
    "Begin by importing all of the required modules/functions/classes."
   ]
  },
  {
   "cell_type": "code",
   "execution_count": 1,
   "metadata": {},
   "outputs": [
    {
     "name": "stderr",
     "output_type": "stream",
     "text": [
      "[NeMo W 2021-08-18 04:49:21 audio_preprocessing:56] Could not import torchaudio. Some features might not work.\n"
     ]
    }
   ],
   "source": [
    "import nemo\n",
    "import nemo.collections.nlp as nemo_nlp\n",
    "from nemo.collections.nlp.data.datasets import BertTextClassificationDataset\n",
    "from nemo.collections.nlp.nm.data_layers.text_classification_datalayer import BertTextClassificationDataLayer\n",
    "from nemo.collections.nlp.nm.trainables import SequenceClassifier\n",
    "\n",
    "from nemo.backends.pytorch.common import CrossEntropyLossNM\n",
    "from nemo.utils.lr_policies import get_lr_policy\n",
    "from nemo.collections.nlp.callbacks.text_classification_callback import eval_iter_callback, eval_epochs_done_callback\n",
    "\n",
    "import os\n",
    "import json\n",
    "import math\n",
    "import numpy as np\n",
    "import pandas as pd\n",
    "pd.options.display.max_colwidth = -1\n",
    "\n",
    "import matplotlib.pyplot as plt\n",
    "from sklearn.manifold import TSNE\n",
    "%matplotlib inline\n",
    "\n",
    "import torch\n",
    "\n",
    "from netapp_jupyter_utils import netappSnapshotCreate, netappGetSnapshots, netappRestoreSnapshot\n",
    "from datetime import datetime"
   ]
  },
  {
   "cell_type": "markdown",
   "metadata": {},
   "source": [
    "You can safely ignore the \"UserWarning: Could not import torchaudio. Some features might not work.\" error this code generates, as this notebook does not utilize any \"torchaudio\" features."
   ]
  },
  {
   "cell_type": "markdown",
   "metadata": {},
   "source": [
    "# NetApp Volume Parameters"
   ]
  },
  {
   "cell_type": "markdown",
   "metadata": {},
   "source": [
    "Enter the names of the Kubernetes PersistentVolume (PV) objects on which the dataset and model reside. These models are presented as simple folders within the Jupyter workspace through the NetApp AI Control Plane, where the ./data directory is the mounted dataset PV and the ./model directory is the mounted model PV. These PVs were provisioned using NetApp Trident prior to the start of the lab, and are pre-populated with the lab's required dataset and model data.\n",
    "\n",
    "Notice that the NetApp storage constructs are abstracted away such that the user does not need to know or care that these directories actually represent mounted NetApp volumes, meaning data scientists aren't distracted by storage complexity."
   ]
  },
  {
   "cell_type": "code",
   "execution_count": 2,
   "metadata": {},
   "outputs": [
    {
     "name": "stdout",
     "output_type": "stream",
     "text": [
      "Stored 'datasetPvName' (str)\n",
      "Stored 'modelPvName' (str)\n"
     ]
    }
   ],
   "source": [
    "# Note: PV = PersistentVolume\n",
    "datasetPvName = 'pvc-99ca6eb3-0fbd-45bc-8309-654df8bef276' # Kubernetes PV on which the dataset resides (mounted at ./data)\n",
    "modelPvName = 'pvc-f96acec3-e9eb-41c5-bcea-210aede85585' # Kubernetes PV on which trained models will be saved (mounted at ./model)\n",
    "\n",
    "# This just allows Jupyter to re-use these values in the next notebook\n",
    "%store datasetPvName\n",
    "%store modelPvName"
   ]
  },
  {
   "cell_type": "markdown",
   "metadata": {},
   "source": [
    "# Dataset"
   ]
  },
  {
   "cell_type": "markdown",
   "metadata": {},
   "source": [
    "\n",
    "\n",
    "Load the dataset."
   ]
  },
  {
   "cell_type": "code",
   "execution_count": 3,
   "metadata": {
    "jupyter": {
     "source_hidden": true
    }
   },
   "outputs": [],
   "source": [
    "WORK_DIR = 'logs'\n",
    "DATA_DIR = 'data/SST-2'\n",
    "MODELS_DIR = 'models/'\n",
    "\n",
    "PRETRAINED_MODEL_NAME = 'bert-base-uncased'\n",
    "MAX_SEQ_LEN = 64 # we will pad with 0's shorter sentences and truncate longer\n",
    "BATCH_SIZE = 100\n",
    "\n",
    "df = pd.read_csv(DATA_DIR + '/train.tsv', sep='\\t')\n",
    "test_df = pd.read_csv(DATA_DIR + '/test.tsv', sep='\\t')"
   ]
  },
  {
   "cell_type": "markdown",
   "metadata": {
    "jupyter": {
     "source_hidden": true
    }
   },
   "source": [
    "## Data Exploration"
   ]
  },
  {
   "cell_type": "markdown",
   "metadata": {
    "jupyter": {
     "source_hidden": true
    }
   },
   "source": [
    "Display the first few lines of the dataset, which are sentences extracted from online movie reviews, to get a sense for what the dataset looks like. Each sentence has a label of 0 or 1, indicating whether that sentence is expressing a negative or positive sentiment, respectively."
   ]
  },
  {
   "cell_type": "code",
   "execution_count": 4,
   "metadata": {
    "collapsed": true,
    "jupyter": {
     "outputs_hidden": true,
     "source_hidden": true
    }
   },
   "outputs": [
    {
     "data": {
      "text/html": [
       "<div>\n",
       "<style scoped>\n",
       "    .dataframe tbody tr th:only-of-type {\n",
       "        vertical-align: middle;\n",
       "    }\n",
       "\n",
       "    .dataframe tbody tr th {\n",
       "        vertical-align: top;\n",
       "    }\n",
       "\n",
       "    .dataframe thead th {\n",
       "        text-align: right;\n",
       "    }\n",
       "</style>\n",
       "<table border=\"1\" class=\"dataframe\">\n",
       "  <thead>\n",
       "    <tr style=\"text-align: right;\">\n",
       "      <th></th>\n",
       "      <th>sentence</th>\n",
       "      <th>label</th>\n",
       "    </tr>\n",
       "  </thead>\n",
       "  <tbody>\n",
       "    <tr>\n",
       "      <th>0</th>\n",
       "      <td>hide new secretions from the parental units</td>\n",
       "      <td>0</td>\n",
       "    </tr>\n",
       "    <tr>\n",
       "      <th>1</th>\n",
       "      <td>contains no wit , only labored gags</td>\n",
       "      <td>0</td>\n",
       "    </tr>\n",
       "    <tr>\n",
       "      <th>2</th>\n",
       "      <td>that loves its characters and communicates something rather beautiful about human nature</td>\n",
       "      <td>1</td>\n",
       "    </tr>\n",
       "    <tr>\n",
       "      <th>3</th>\n",
       "      <td>remains utterly satisfied to remain the same throughout</td>\n",
       "      <td>0</td>\n",
       "    </tr>\n",
       "    <tr>\n",
       "      <th>4</th>\n",
       "      <td>on the worst revenge-of-the-nerds clichés the filmmakers could dredge up</td>\n",
       "      <td>0</td>\n",
       "    </tr>\n",
       "  </tbody>\n",
       "</table>\n",
       "</div>"
      ],
      "text/plain": [
       "                                                                                    sentence  \\\n",
       "0  hide new secretions from the parental units                                                 \n",
       "1  contains no wit , only labored gags                                                         \n",
       "2  that loves its characters and communicates something rather beautiful about human nature    \n",
       "3  remains utterly satisfied to remain the same throughout                                     \n",
       "4  on the worst revenge-of-the-nerds clichés the filmmakers could dredge up                    \n",
       "\n",
       "   label  \n",
       "0  0      \n",
       "1  0      \n",
       "2  1      \n",
       "3  0      \n",
       "4  0      "
      ]
     },
     "execution_count": 4,
     "metadata": {},
     "output_type": "execute_result"
    }
   ],
   "source": [
    "df.head()"
   ]
  },
  {
   "cell_type": "code",
   "execution_count": 5,
   "metadata": {
    "jupyter": {
     "source_hidden": true
    }
   },
   "outputs": [],
   "source": [
    "# Split train to train and val and save to disk\n",
    "np.random.seed(123)\n",
    "train_mask = np.random.rand((len(df))) < .8\n",
    "train_df = df[train_mask]\n",
    "val_df = df[~train_mask]\n",
    "\n",
    "# Reformat test dataset (\"sentence\\tlabel\")\n",
    "test_df['label'] = 0\n",
    "test_df = test_df[['sentence', 'label']]\n",
    "\n",
    "# Save new train, val, and test to disk\n",
    "SPLIT_DATA_DIR = os.path.join(DATA_DIR, 'split')\n",
    "\n",
    "os.makedirs(SPLIT_DATA_DIR, exist_ok=True)\n",
    "\n",
    "train_df.to_csv(os.path.join(SPLIT_DATA_DIR, 'train.tsv'), sep='\\t', index=False)\n",
    "val_df.to_csv(os.path.join(SPLIT_DATA_DIR, 'eval.tsv'), sep='\\t', index=False)\n",
    "test_df.to_csv(os.path.join(SPLIT_DATA_DIR, 'test.tsv'), sep='\\t', index=False)"
   ]
  },
  {
   "cell_type": "markdown",
   "metadata": {},
   "source": [
    "## Save Dataset Baseline for Traceability"
   ]
  },
  {
   "cell_type": "markdown",
   "metadata": {},
   "source": [
    "Save the datasets to disk so that you can later take advantage of NetApp Snapshot technology to save baselined dataset versions. The data transformation you performed here was simple, but these transformations are often complex and may require experimentation with multiple augmentations. NetApp Snapshots facilitate that need by giving you the ability to save off different versions of datasets in a near-instantaneous and highly storage-efficient manner. You will create a snapshot in the next section of this notebook."
   ]
  },
  {
   "cell_type": "markdown",
   "metadata": {},
   "source": [
    "Before training the model, use NetApp Snapshot technology to near-instaneously save a baseline version of the dataset for traceability."
   ]
  },
  {
   "cell_type": "markdown",
   "metadata": {},
   "source": [
    "First, define a unique tag and a description for the training run. You will use these items to identify the snapshots that correspond to this specific training run. "
   ]
  },
  {
   "cell_type": "code",
   "execution_count": 6,
   "metadata": {},
   "outputs": [
    {
     "name": "stdout",
     "output_type": "stream",
     "text": [
      "trainingRunTag:  bert_20210818_044926\n",
      "Stored 'trainingRunTag' (str)\n"
     ]
    }
   ],
   "source": [
    "trainingRunTag = 'bert_%s' % datetime.today().strftime('%Y%m%d_%H%M%S') # Training run tag = bert_timestamp\n",
    "print('trainingRunTag: ', trainingRunTag)\n",
    "trainingRunDescription = 'BERT training run.'\n",
    "\n",
    "# This just allows Jupyter to re-use these values in the next notebook\n",
    "%store trainingRunTag"
   ]
  },
  {
   "cell_type": "markdown",
   "metadata": {},
   "source": [
    "Now, trigger the creation of a Snapshot copy to save a baseline version of the dataset.\n",
    "\n",
    "A NetApp Snapshot copy is a read-only, point-in-time image of a volume. The image consumes minimal storage space and incurs negligible performance overhead because it only records file changes that have occurred since the last Snapshot was taken. This makes Snapshot copies ideal for saving versioned baselines of datasets and models, and for implementing dataset-to-model traceability. Since you are using the NetApp AI Control Plane, the underlying NetApp functionality is abstracted away, meaning you can trigger the creation of a Snapshot copy directly from within the notebook rather than having to navigate to an external NetApp-specific tool.\n",
    "\n",
    "If you want more details on how this NetApp integration works, the \"netappSnapshotCreate\" method is defined in the netapp_jupyter_utils.py helper script found in the same directory as this notebook. That script leverages ONTAP REST APIs to create the snapshot on the desired PV. If you want to examine that script more closely, you can open the JupyterLab File Browser and double-click that script file to open it in an editor, just be careful not to change the file's contents or you may break the script, which in turn would break the correct operation of this notebook."
   ]
  },
  {
   "cell_type": "code",
   "execution_count": 7,
   "metadata": {},
   "outputs": [
    {
     "name": "stdout",
     "output_type": "stream",
     "text": [
      "API Response:  success\n",
      "Snapshot uuid:  a7210eb7-ffdf-11eb-b34c-0050569f4e90\n",
      "Snapshot name:  bert_20210818_044926\n",
      "Snapshot description:  BERT training run.\n",
      "Snapshot tag:  bert_20210818_044926\n"
     ]
    }
   ],
   "source": [
    "apiResponse, snapshot = netappSnapshotCreate(pvName = datasetPvName, snapshotName = trainingRunTag, snapshotComment = trainingRunDescription)\n",
    "\n",
    "print('API Response: ', apiResponse['state'])\n",
    "print('Snapshot uuid: ', snapshot['uuid'])\n",
    "print('Snapshot name: ', snapshot['name'])\n",
    "print('Snapshot description: ', snapshot['comment'])\n",
    "print('Snapshot tag: ', trainingRunTag)"
   ]
  },
  {
   "cell_type": "markdown",
   "metadata": {},
   "source": [
    "# Neural Modules"
   ]
  },
  {
   "cell_type": "code",
   "execution_count": 8,
   "metadata": {
    "collapsed": true,
    "jupyter": {
     "outputs_hidden": true,
     "source_hidden": true
    }
   },
   "outputs": [
    {
     "name": "stdout",
     "output_type": "stream",
     "text": [
      "[NeMo I 2021-08-18 04:49:40 bert_tokenizer:78] Deriving bert model type from pretrained model name.\n",
      "bert-base-uncased has 109482240 weights\n"
     ]
    }
   ],
   "source": [
    "# instantiate the neural module factory\n",
    "nf = nemo.core.NeuralModuleFactory(log_dir=WORK_DIR,\n",
    "                                   create_tb_writer=True,\n",
    "                                   add_time_to_log_dir=False,\n",
    "                                   optimization_level='O1')\n",
    "\n",
    "# Pre-trained BERT\n",
    "bert = nemo_nlp.nm.trainables.huggingface.BERT(pretrained_model_name=PRETRAINED_MODEL_NAME)\n",
    "tokenizer = nemo_nlp.data.NemoBertTokenizer(PRETRAINED_MODEL_NAME)\n",
    "\n",
    "print(f'{PRETRAINED_MODEL_NAME} has {bert.num_weights} weights')"
   ]
  },
  {
   "cell_type": "code",
   "execution_count": 9,
   "metadata": {
    "collapsed": true,
    "jupyter": {
     "outputs_hidden": true,
     "source_hidden": true
    }
   },
   "outputs": [
    {
     "name": "stdout",
     "output_type": "stream",
     "text": [
      "MLP has 592130 weights\n"
     ]
    }
   ],
   "source": [
    "# mlp classifier\n",
    "bert_hidden_size = bert.hidden_size\n",
    "\n",
    "mlp = SequenceClassifier(hidden_size=bert_hidden_size, \n",
    "                         num_classes=2,\n",
    "                         num_layers=2,\n",
    "                         log_softmax=False,\n",
    "                         dropout=0.1)\n",
    "\n",
    "loss = CrossEntropyLossNM()\n",
    "\n",
    "# Compared to the BERT model, the MLP is tiny.\n",
    "print(f'MLP has {mlp.num_weights} weights')"
   ]
  },
  {
   "cell_type": "markdown",
   "metadata": {},
   "source": [
    "## Pipelines"
   ]
  },
  {
   "cell_type": "markdown",
   "metadata": {
    "jupyter": {
     "source_hidden": true
    }
   },
   "source": [
    "Pipelines define how data will flow through the different neural networks. In this case the data will flow through the BERT network and then the MLP network.\n",
    "\n",
    "Note that this specific use of the term \"Pipelines\" refers to the general concept of \"Pipelines\", not to the Kubeflow Pipelines framework."
   ]
  },
  {
   "cell_type": "markdown",
   "metadata": {
    "jupyter": {
     "source_hidden": true
    }
   },
   "source": [
    "### Data Layers"
   ]
  },
  {
   "cell_type": "markdown",
   "metadata": {},
   "source": [
    "Use a pre-built library to convert the data to a format that the BERT model expects."
   ]
  },
  {
   "cell_type": "code",
   "execution_count": 10,
   "metadata": {
    "collapsed": true,
    "jupyter": {
     "outputs_hidden": true,
     "source_hidden": true
    }
   },
   "outputs": [
    {
     "name": "stdout",
     "output_type": "stream",
     "text": [
      "[NeMo I 2021-08-18 04:49:41 text_classification_dataset:217] features restored from data/SST-2/split/cached_train_BertTokenizer_64_30522\n",
      "[NeMo I 2021-08-18 04:49:41 text_classification_dataset:217] features restored from data/SST-2/split/cached_eval_BertTokenizer_64_30522\n"
     ]
    }
   ],
   "source": [
    "train_data = BertTextClassificationDataLayer(input_file=os.path.join(SPLIT_DATA_DIR, 'train.tsv'),\n",
    "                                             tokenizer=tokenizer,\n",
    "                                             max_seq_length=MAX_SEQ_LEN,\n",
    "                                             shuffle=True,\n",
    "                                             batch_size=BATCH_SIZE,\n",
    "                                             use_cache=True)\n",
    "\n",
    "val_data = BertTextClassificationDataLayer(input_file=os.path.join(SPLIT_DATA_DIR, 'eval.tsv'),\n",
    "                                           tokenizer=tokenizer,\n",
    "                                           max_seq_length=MAX_SEQ_LEN,\n",
    "                                           batch_size=BATCH_SIZE,\n",
    "                                           use_cache=True)"
   ]
  },
  {
   "cell_type": "code",
   "execution_count": 11,
   "metadata": {
    "jupyter": {
     "source_hidden": true
    }
   },
   "outputs": [],
   "source": [
    "train_input, train_token_types, train_attn_mask, train_labels = train_data()\n",
    "val_input, val_token_types, val_attn_mask, val_labels = val_data()"
   ]
  },
  {
   "cell_type": "markdown",
   "metadata": {},
   "source": [
    "# Understanding and Visualizing BERT Embeddings"
   ]
  },
  {
   "cell_type": "markdown",
   "metadata": {
    "jupyter": {
     "source_hidden": true
    }
   },
   "source": [
    "Create BERT embeddings that convert words into a feature vector, and then use a machine learning algorithm called TSNE to separate a list of example words into categories representing \"good\" (i.e., positive) words and \"bad\" (i.e., negative) words."
   ]
  },
  {
   "cell_type": "code",
   "execution_count": 12,
   "metadata": {
    "jupyter": {
     "source_hidden": true
    }
   },
   "outputs": [],
   "source": [
    "# Write example words to file\n",
    "spectrum_words = ['abysmal', 'apalling', 'dreadful', 'awful', 'terrible',\n",
    "                  'very bad', 'really bad', 'rubbish', 'unsatisfactory',\n",
    "                  'bad', 'poor', 'great', 'really good', 'very good', 'awesome'\n",
    "                  'fantastic', 'superb', 'brilliant', 'incredible', 'excellent'\n",
    "                  'outstanding', 'perfect']\n",
    "\n",
    "spectrum_file = os.path.join(SPLIT_DATA_DIR, 'positive_negative.tsv')\n",
    "with open(spectrum_file, 'w+') as f:\n",
    "    f.write('sentence\\tlabel')\n",
    "    for word in spectrum_words:\n",
    "        f.write('\\n' + word + '\\t0')\n",
    "\n",
    "spectrum_df = pd.read_csv(spectrum_file, delimiter='\\t')"
   ]
  },
  {
   "cell_type": "code",
   "execution_count": 13,
   "metadata": {
    "collapsed": true,
    "jupyter": {
     "outputs_hidden": true,
     "source_hidden": true
    }
   },
   "outputs": [
    {
     "name": "stdout",
     "output_type": "stream",
     "text": [
      "[NeMo I 2021-08-18 04:49:41 text_classification_dataset:82] data/SST-2/split/positive_negative.tsv: 20\n",
      "[NeMo I 2021-08-18 04:49:41 data_preprocessing:250] Min: 3 |                  Max: 6 |                  Mean: 3.85 |                  Median: 3.0\n",
      "[NeMo I 2021-08-18 04:49:41 data_preprocessing:252] 75 percentile: 4.25\n",
      "[NeMo I 2021-08-18 04:49:41 data_preprocessing:253] 99 percentile: 6.0\n",
      "[NeMo I 2021-08-18 04:49:41 text_classification_dataset:118] 0 out of 20                         sentences with more than 64 subtokens.\n",
      "[NeMo I 2021-08-18 04:49:41 text_classification_dataset:175] *** Example ***\n",
      "[NeMo I 2021-08-18 04:49:41 text_classification_dataset:176] example_index: 0\n",
      "[NeMo I 2021-08-18 04:49:41 text_classification_dataset:177] subtokens: [CLS] ab ##ys ##mal [SEP]\n",
      "[NeMo I 2021-08-18 04:49:41 text_classification_dataset:178] sent_label: 0\n",
      "[NeMo I 2021-08-18 04:49:41 text_classification_dataset:179] input_ids: 101 11113 7274 9067 102 0 0 0 0 0 0 0 0 0 0 0 0 0 0 0 0 0 0 0 0 0 0 0 0 0 0 0 0 0 0 0 0 0 0 0 0 0 0 0 0 0 0 0 0 0 0 0 0 0 0 0 0 0 0 0 0 0 0 0\n",
      "[NeMo I 2021-08-18 04:49:41 text_classification_dataset:180] input_mask: 1 1 1 1 1 0 0 0 0 0 0 0 0 0 0 0 0 0 0 0 0 0 0 0 0 0 0 0 0 0 0 0 0 0 0 0 0 0 0 0 0 0 0 0 0 0 0 0 0 0 0 0 0 0 0 0 0 0 0 0 0 0 0 0\n",
      "[NeMo I 2021-08-18 04:49:41 text_classification_dataset:175] *** Example ***\n",
      "[NeMo I 2021-08-18 04:49:41 text_classification_dataset:176] example_index: 1\n",
      "[NeMo I 2021-08-18 04:49:41 text_classification_dataset:177] subtokens: [CLS] ap ##all ##ing [SEP]\n",
      "[NeMo I 2021-08-18 04:49:41 text_classification_dataset:178] sent_label: 0\n",
      "[NeMo I 2021-08-18 04:49:41 text_classification_dataset:179] input_ids: 101 9706 8095 2075 102 0 0 0 0 0 0 0 0 0 0 0 0 0 0 0 0 0 0 0 0 0 0 0 0 0 0 0 0 0 0 0 0 0 0 0 0 0 0 0 0 0 0 0 0 0 0 0 0 0 0 0 0 0 0 0 0 0 0 0\n",
      "[NeMo I 2021-08-18 04:49:41 text_classification_dataset:180] input_mask: 1 1 1 1 1 0 0 0 0 0 0 0 0 0 0 0 0 0 0 0 0 0 0 0 0 0 0 0 0 0 0 0 0 0 0 0 0 0 0 0 0 0 0 0 0 0 0 0 0 0 0 0 0 0 0 0 0 0 0 0 0 0 0 0\n",
      "[NeMo I 2021-08-18 04:49:41 text_classification_dataset:175] *** Example ***\n",
      "[NeMo I 2021-08-18 04:49:41 text_classification_dataset:176] example_index: 2\n",
      "[NeMo I 2021-08-18 04:49:41 text_classification_dataset:177] subtokens: [CLS] dreadful [SEP]\n",
      "[NeMo I 2021-08-18 04:49:41 text_classification_dataset:178] sent_label: 0\n",
      "[NeMo I 2021-08-18 04:49:41 text_classification_dataset:179] input_ids: 101 21794 102 0 0 0 0 0 0 0 0 0 0 0 0 0 0 0 0 0 0 0 0 0 0 0 0 0 0 0 0 0 0 0 0 0 0 0 0 0 0 0 0 0 0 0 0 0 0 0 0 0 0 0 0 0 0 0 0 0 0 0 0 0\n",
      "[NeMo I 2021-08-18 04:49:41 text_classification_dataset:180] input_mask: 1 1 1 0 0 0 0 0 0 0 0 0 0 0 0 0 0 0 0 0 0 0 0 0 0 0 0 0 0 0 0 0 0 0 0 0 0 0 0 0 0 0 0 0 0 0 0 0 0 0 0 0 0 0 0 0 0 0 0 0 0 0 0 0\n",
      "[NeMo I 2021-08-18 04:49:41 text_classification_dataset:175] *** Example ***\n",
      "[NeMo I 2021-08-18 04:49:41 text_classification_dataset:176] example_index: 3\n",
      "[NeMo I 2021-08-18 04:49:41 text_classification_dataset:177] subtokens: [CLS] awful [SEP]\n",
      "[NeMo I 2021-08-18 04:49:41 text_classification_dataset:178] sent_label: 0\n",
      "[NeMo I 2021-08-18 04:49:41 text_classification_dataset:179] input_ids: 101 9643 102 0 0 0 0 0 0 0 0 0 0 0 0 0 0 0 0 0 0 0 0 0 0 0 0 0 0 0 0 0 0 0 0 0 0 0 0 0 0 0 0 0 0 0 0 0 0 0 0 0 0 0 0 0 0 0 0 0 0 0 0 0\n",
      "[NeMo I 2021-08-18 04:49:41 text_classification_dataset:180] input_mask: 1 1 1 0 0 0 0 0 0 0 0 0 0 0 0 0 0 0 0 0 0 0 0 0 0 0 0 0 0 0 0 0 0 0 0 0 0 0 0 0 0 0 0 0 0 0 0 0 0 0 0 0 0 0 0 0 0 0 0 0 0 0 0 0\n",
      "[NeMo I 2021-08-18 04:49:41 text_classification_dataset:175] *** Example ***\n",
      "[NeMo I 2021-08-18 04:49:41 text_classification_dataset:176] example_index: 4\n",
      "[NeMo I 2021-08-18 04:49:41 text_classification_dataset:177] subtokens: [CLS] terrible [SEP]\n",
      "[NeMo I 2021-08-18 04:49:41 text_classification_dataset:178] sent_label: 0\n",
      "[NeMo I 2021-08-18 04:49:41 text_classification_dataset:179] input_ids: 101 6659 102 0 0 0 0 0 0 0 0 0 0 0 0 0 0 0 0 0 0 0 0 0 0 0 0 0 0 0 0 0 0 0 0 0 0 0 0 0 0 0 0 0 0 0 0 0 0 0 0 0 0 0 0 0 0 0 0 0 0 0 0 0\n",
      "[NeMo I 2021-08-18 04:49:41 text_classification_dataset:180] input_mask: 1 1 1 0 0 0 0 0 0 0 0 0 0 0 0 0 0 0 0 0 0 0 0 0 0 0 0 0 0 0 0 0 0 0 0 0 0 0 0 0 0 0 0 0 0 0 0 0 0 0 0 0 0 0 0 0 0 0 0 0 0 0 0 0\n"
     ]
    }
   ],
   "source": [
    "# Reformat data\n",
    "spectrum_data = BertTextClassificationDataLayer(input_file=spectrum_file,\n",
    "                                                tokenizer=tokenizer,\n",
    "                                                max_seq_length=MAX_SEQ_LEN,\n",
    "                                                batch_size=BATCH_SIZE)"
   ]
  },
  {
   "cell_type": "code",
   "execution_count": 14,
   "metadata": {
    "collapsed": true,
    "jupyter": {
     "outputs_hidden": true,
     "source_hidden": true
    }
   },
   "outputs": [
    {
     "name": "stdout",
     "output_type": "stream",
     "text": [
      "Selected optimization level O1:  Insert automatic casts around Pytorch functions and Tensor methods.\n",
      "\n",
      "Defaults for this optimization level are:\n",
      "enabled                : True\n",
      "opt_level              : O1\n",
      "cast_model_type        : None\n",
      "patch_torch_functions  : True\n",
      "keep_batchnorm_fp32    : None\n",
      "master_weights         : None\n",
      "loss_scale             : dynamic\n",
      "Processing user overrides (additional kwargs that are not None)...\n",
      "After processing overrides, optimization options are:\n",
      "enabled                : True\n",
      "opt_level              : O1\n",
      "cast_model_type        : None\n",
      "patch_torch_functions  : True\n",
      "keep_batchnorm_fp32    : None\n",
      "master_weights         : None\n",
      "loss_scale             : dynamic\n",
      "[NeMo I 2021-08-18 04:49:42 actions:695] Evaluating batch 0 out of 1\n"
     ]
    }
   ],
   "source": [
    "# Create word embeddings\n",
    "spectrum_input, spectrum_token_types, spectrum_attn_mask, spectrum_labels = spectrum_data()\n",
    "spectrum_embeddings = bert(input_ids=spectrum_input,\n",
    "                           token_type_ids=spectrum_token_types,\n",
    "                           attention_mask=spectrum_attn_mask)\n",
    "spectrum_embeddings_tensors = nf.infer(tensors=[spectrum_embeddings])"
   ]
  },
  {
   "cell_type": "markdown",
   "metadata": {},
   "source": [
    "Draw a plot to visualize the words that the machine model classifies as expressing a \"good\" versus \"bad\" sentiment. "
   ]
  },
  {
   "cell_type": "code",
   "execution_count": 15,
   "metadata": {},
   "outputs": [
    {
     "name": "stdout",
     "output_type": "stream",
     "text": [
      "[t-SNE] Computing 19 nearest neighbors...\n",
      "[t-SNE] Indexed 20 samples in 0.000s...\n",
      "[t-SNE] Computed neighbors for 20 samples in 0.002s...\n",
      "[t-SNE] Computed conditional probabilities for sample 20 / 20\n",
      "[t-SNE] Mean sigma: 2.210003\n",
      "[t-SNE] KL divergence after 100 iterations with early exaggeration: 35.297852\n",
      "[t-SNE] KL divergence after 700 iterations: 0.162491\n"
     ]
    },
    {
     "data": {
      "image/png": "[encoded data removed]",
      "text/plain": [
       "<Figure size 720x720 with 1 Axes>"
      ]
     },
     "metadata": {
      "needs_background": "light"
     },
     "output_type": "display_data"
    }
   ],
   "source": [
    "spectrum_activations = spectrum_embeddings_tensors[0][0][:,0,:].numpy()\n",
    "tsne_spectrum = TSNE(n_components=2, perplexity=10, verbose=1, learning_rate=2,\n",
    "                     random_state=123).fit_transform(spectrum_activations)\n",
    "\n",
    "fig = plt.figure(figsize=(10,10))\n",
    "plt.plot(tsne_spectrum[0:11, 0], tsne_spectrum[0:11, 1], 'rx')\n",
    "plt.plot(tsne_spectrum[11:, 0], tsne_spectrum[11:, 1], 'bo')\n",
    "for (x,y, label) in zip(tsne_spectrum[0:, 0], tsne_spectrum[0:, 1], spectrum_df.sentence.values.tolist() ):\n",
    "    plt.annotate(label, # this is the text\n",
    "                 (x,y), # this is the point to label\n",
    "                 textcoords=\"offset points\", # how to position the text\n",
    "                 xytext=(0,10), # distance from text to points (x,y)\n",
    "                 ha='center') # horizontal alignment can be left, right or center"
   ]
  },
  {
   "cell_type": "markdown",
   "metadata": {
    "jupyter": {
     "source_hidden": true
    }
   },
   "source": [
    "In the preceding plot, \"good\" words are denoted by a blue dot, and \"bad\" words are denoted by a red x. If the model is effective, then you should expect \"good\" words to be closely clustered together and \"bad\" words to be closely clustered together, with both cluster groups widely separated into the lower-left and upper-right corners. That is not what you see here, so clearly there is room to improve this model, which you will attempt to accomplish shortly through further training."
   ]
  },
  {
   "cell_type": "markdown",
   "metadata": {
    "jupyter": {
     "source_hidden": true
    }
   },
   "source": [
    "# Training Pipeline "
   ]
  },
  {
   "cell_type": "markdown",
   "metadata": {},
   "source": [
    "## Save Baseline Version of Model"
   ]
  },
  {
   "cell_type": "markdown",
   "metadata": {},
   "source": [
    "Before training the model, use NetApp Snapshot technology to save a baseline version of the model that you can revert back to in the event that you are not happy with the upcoming training results. Note that the size of a volume and the amount of data it contains does not factor into the time required to create an ONTAP snapshot. "
   ]
  },
  {
   "cell_type": "code",
   "execution_count": 16,
   "metadata": {},
   "outputs": [
    {
     "name": "stdout",
     "output_type": "stream",
     "text": [
      "API Response:  success\n",
      "Snapshot uuid:  b38c5f0a-ffdf-11eb-b34c-0050569f4e90\n",
      "Snapshot name:  baseline_bert_20210818_044926\n",
      "Snapshot description:  Baseline pre-trained BERT model.\n"
     ]
    }
   ],
   "source": [
    "modelTag = 'baseline_' + trainingRunTag\n",
    "modelDescription = 'Baseline pre-trained BERT model.'\n",
    "\n",
    "bert.config.save_pretrained(MODELS_DIR)\n",
    "torch.save(bert.state_dict(), MODELS_DIR + 'pytorch_model.bin') # Save pre-trained model to volume\n",
    "\n",
    "apiResponse, snapshot = netappSnapshotCreate(pvName = modelPvName, snapshotName = modelTag, snapshotComment = modelDescription)\n",
    "\n",
    "print('API Response: ', apiResponse['state'])\n",
    "print('Snapshot uuid: ', snapshot['uuid'])\n",
    "print('Snapshot name: ', snapshot['name'])\n",
    "print('Snapshot description: ', snapshot['comment'])"
   ]
  },
  {
   "cell_type": "markdown",
   "metadata": {},
   "source": [
    "### Set up Training Pipeline"
   ]
  },
  {
   "cell_type": "markdown",
   "metadata": {
    "jupyter": {
     "source_hidden": true
    }
   },
   "source": [
    "Use BERT embeddings to convert from words to a feature vector. This time you are using the full dataset, not just a small sample."
   ]
  },
  {
   "cell_type": "code",
   "execution_count": 17,
   "metadata": {
    "jupyter": {
     "source_hidden": true
    }
   },
   "outputs": [],
   "source": [
    "train_embeddings = bert(input_ids=train_input,\n",
    "                        token_type_ids=train_token_types,\n",
    "                        attention_mask=train_attn_mask)\n",
    "val_embeddings = bert(input_ids=val_input,\n",
    "                      token_type_ids=val_token_types,\n",
    "                      attention_mask=val_attn_mask)\n",
    "\n",
    "#Define optimizations and the loss functions.\n",
    "\n",
    "NUM_EPOCHS = 3\n",
    "NUM_GPUS = 1\n",
    "LEARNING_RATE = 5e-5\n",
    "OPTIMIZER = 'adam'\n",
    "\n",
    "train_logits = mlp(hidden_states=train_embeddings)\n",
    "val_logits = mlp(hidden_states=val_embeddings)\n",
    "\n",
    "train_loss = loss(logits=train_logits, labels=train_labels)\n",
    "val_loss = loss(logits=val_logits, labels=val_labels)"
   ]
  },
  {
   "cell_type": "markdown",
   "metadata": {
    "jupyter": {
     "source_hidden": true
    }
   },
   "source": [
    "### Callbacks"
   ]
  },
  {
   "cell_type": "code",
   "execution_count": 20,
   "metadata": {},
   "outputs": [
    {
     "name": "stderr",
     "output_type": "stream",
     "text": [
      "[NeMo W 2021-08-18 04:49:53 deprecated:66] Function ``__init__`` is deprecated. It is going to be removed in the 0.12 version. The callback section of NeMo has been updated.\n"
     ]
    }
   ],
   "source": [
    "train_data_size = len(train_data)\n",
    "steps_per_epoch = math.ceil(train_data_size / (BATCH_SIZE * NUM_GPUS))\n",
    "\n",
    "train_callback = nemo.core.SimpleLossLoggerCallback(tensors=[train_loss, train_logits],\n",
    "                            print_func=lambda x:nemo.logging.info(f'Train loss: {str(np.round(x[0].item(), 3))}'),\n",
    "                            tb_writer=nf.tb_writer,\n",
    "                            get_tb_values=lambda x: [[\"train_loss\", x[0]]],\n",
    "                            step_freq=steps_per_epoch)\n",
    "\n",
    "eval_callback = nemo.core.EvaluatorCallback(eval_tensors=[val_logits, val_labels],\n",
    "                                            user_iter_callback=lambda x, y: eval_iter_callback(x, y, val_data),\n",
    "                                            user_epochs_done_callback=lambda x:\n",
    "                                                eval_epochs_done_callback(x, f'{nf.work_dir}/graphs'),\n",
    "                                            tb_writer=nf.tb_writer,\n",
    "                                            eval_step=steps_per_epoch)\n",
    "\n",
    "# Create callback to save checkpoints\n",
    "ckpt_callback = nemo.core.CheckpointCallback(folder=nf.checkpoint_dir,\n",
    "                                             epoch_freq=1)\n",
    "\n",
    "lr_policy_fn = get_lr_policy('WarmupAnnealing',\n",
    "                             total_steps=NUM_EPOCHS * steps_per_epoch,\n",
    "                             warmup_ratio=0.1)"
   ]
  },
  {
   "cell_type": "markdown",
   "metadata": {},
   "source": [
    "### Train"
   ]
  },
  {
   "cell_type": "markdown",
   "metadata": {},
   "source": [
    "Train the neural network. This may take up to 5 minutes. If you set up your notebook dashboard with the resource utilization graphs as described in the accompanying lab guide, then you should see GPU Memory utilization graph max out and hold, and GPU Utilization should ramp up, hold, and then drop multiple times as the training process executes each of the model's three epochs. Host CPU utilization will stat relatively low throughout as the GPU is performing most of the training work.\n",
    "\n",
    "At the beginning of training and at the end of each of the three training epochs, a callback prints a confusion matrix summarizing that epoch's accuracy results, four matrices in total, with values normalized to the range 0.00 to 1.00. The initial matrix will report accuracy around 0.56, while matrices for later epochs will produce around 0.95, reflecting improved model accuracy.\n",
    "\n",
    "Once training completes, the cell will output four graphical four-square color confusion matrices summarizing these same results. Purple squares in the lower-left and upper-right quadrants represent a more accurate model. While the first graphic does not match this scheme, later ones do, again indicating that model accuracy has improved during the training."
   ]
  },
  {
   "cell_type": "code",
   "execution_count": 22,
   "metadata": {
    "collapsed": true,
    "jupyter": {
     "outputs_hidden": true
    }
   },
   "outputs": [
    {
     "name": "stdout",
     "output_type": "stream",
     "text": [
      "Selected optimization level O1:  Insert automatic casts around Pytorch functions and Tensor methods.\n",
      "\n",
      "Defaults for this optimization level are:\n",
      "enabled                : True\n",
      "opt_level              : O1\n",
      "cast_model_type        : None\n",
      "patch_torch_functions  : True\n",
      "keep_batchnorm_fp32    : None\n",
      "master_weights         : None\n",
      "loss_scale             : dynamic\n",
      "Processing user overrides (additional kwargs that are not None)...\n",
      "After processing overrides, optimization options are:\n",
      "enabled                : True\n",
      "opt_level              : O1\n",
      "cast_model_type        : None\n",
      "patch_torch_functions  : True\n",
      "keep_batchnorm_fp32    : None\n",
      "master_weights         : None\n",
      "loss_scale             : dynamic\n",
      "[NeMo I 2021-08-18 04:49:53 deprecated_callbacks:195] Starting .....\n",
      "[NeMo I 2021-08-18 04:49:53 callbacks:534] Found 2 modules with weights:\n",
      "[NeMo I 2021-08-18 04:49:53 callbacks:536] SequenceClassifier\n",
      "[NeMo I 2021-08-18 04:49:53 callbacks:536] BERT\n",
      "[NeMo I 2021-08-18 04:49:53 callbacks:537] Total model parameters: 110074370\n",
      "[NeMo I 2021-08-18 04:49:53 callbacks:473] Found checkpoint folder logs/checkpoints. Will attempt to restore checkpoints from it.\n",
      "[NeMo I 2021-08-18 04:49:59 deprecated_callbacks:203] Done in 0:00:06.412880\n",
      "[NeMo I 2021-08-18 04:49:59 deprecated_callbacks:339] Final Evaluation ..............................\n",
      "[NeMo I 2021-08-18 04:50:08 text_classification_callback:57] Accuracy: 0.9526464466250372\n",
      "[NeMo I 2021-08-18 04:50:08 text_classification_callback:64] Sampled preds: [1 1 1 1 1 1 0 1 0 1 1 0 1 1 1 1 1 0 0 0]\n",
      "[NeMo I 2021-08-18 04:50:08 text_classification_callback:65] Sampled labels: [1 1 1 0 1 1 0 1 0 1 1 0 1 1 1 1 1 0 0 0]\n",
      "[NeMo I 2021-08-18 04:50:08 callback_utils:92] Confusion matrix:\n",
      "    [[5607  343]\n",
      "     [ 294 7208]]\n",
      "[NeMo I 2021-08-18 04:50:08 text_classification_callback:67]               precision    recall  f1-score   support\n",
      "    \n",
      "               0     0.9502    0.9424    0.9462      5950\n",
      "               1     0.9546    0.9608    0.9577      7502\n",
      "    \n",
      "        accuracy                         0.9526     13452\n",
      "       macro avg     0.9524    0.9516    0.9520     13452\n",
      "    weighted avg     0.9526    0.9526    0.9526     13452\n",
      "    \n",
      "[NeMo I 2021-08-18 04:50:08 deprecated_callbacks:344] Evaluation time: 8.883875608444214 seconds\n",
      "[NeMo I 2021-08-18 04:50:11 callbacks:465] Saved checkpoint: logs/checkpoints/trainer-EPOCH-3.pt\n",
      "CPU times: user 8.36 s, sys: 6.68 s, total: 15 s\n",
      "Wall time: 17.9 s\n"
     ]
    },
    {
     "data": {
      "image/png": "[encoded data removed]",
      "text/plain": [
       "<Figure size 432x288 with 2 Axes>"
      ]
     },
     "metadata": {
      "needs_background": "light"
     },
     "output_type": "display_data"
    }
   ],
   "source": [
    "%%time\n",
    "# Run Training\n",
    "nf.train(tensors_to_optimize=[train_loss],\n",
    "         callbacks=[train_callback, eval_callback, ckpt_callback],\n",
    "         lr_policy=lr_policy_fn,\n",
    "         optimizer=OPTIMIZER,\n",
    "         optimization_params={'num_epochs': NUM_EPOCHS, 'lr': LEARNING_RATE})"
   ]
  }
 ],
 "metadata": {
  "kernelspec": {
   "display_name": "Python 3",
   "language": "python",
   "name": "python3"
  },
  "language_info": {
   "codemirror_mode": {
    "name": "ipython",
    "version": 3
   },
   "file_extension": ".py",
   "mimetype": "text/x-python",
   "name": "python",
   "nbconvert_exporter": "python",
   "pygments_lexer": "ipython3",
   "version": "3.6.9"
  },
  "pycharm": {
   "stem_cell": {
    "cell_type": "raw",
    "metadata": {
     "collapsed": false
    },
    "source": []
   }
  },
  "toc-autonumbering": false,
  "toc-showcode": false,
  "toc-showmarkdowntxt": false,
  "toc-showtags": false
 },
 "nbformat": 4,
 "nbformat_minor": 4
}
