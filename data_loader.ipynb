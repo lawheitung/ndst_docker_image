{
 "cells": [
  {
   "cell_type": "code",
   "execution_count": 1,
   "metadata": {},
   "outputs": [],
   "source": [
    "from dask.distributed import Client, LocalCluster\n",
    "from dask_cuda import LocalCUDACluster\n",
    "import cudf\n",
    "import os\n",
    "import urllib.request\n",
    "import dask_cudf"
   ]
  },
  {
   "cell_type": "code",
   "execution_count": 2,
   "metadata": {},
   "outputs": [
    {
     "data": {
      "text/html": [
       "<table style=\"border: 2px solid white;\">\n",
       "<tr>\n",
       "<td style=\"vertical-align: top; border: 0px solid white\">\n",
       "<h3 style=\"text-align: left;\">Client</h3>\n",
       "<ul style=\"text-align: left; list-style: none; margin: 0; padding: 0;\">\n",
       "  <li><b>Scheduler: </b>tcp://127.0.0.1:35605</li>\n",
       "  <li><b>Dashboard: </b><a href='http://127.0.0.1:8787/status' target='_blank'>http://127.0.0.1:8787/status</a></li>\n",
       "</ul>\n",
       "</td>\n",
       "<td style=\"vertical-align: top; border: 0px solid white\">\n",
       "<h3 style=\"text-align: left;\">Cluster</h3>\n",
       "<ul style=\"text-align: left; list-style:none; margin: 0; padding: 0;\">\n",
       "  <li><b>Workers: </b>4</li>\n",
       "  <li><b>Cores: </b>200</li>\n",
       "  <li><b>Memory: </b>1.08 TB</li>\n",
       "</ul>\n",
       "</td>\n",
       "</tr>\n",
       "</table>"
      ],
      "text/plain": [
       "<Client: 'tcp://127.0.0.1:35605' processes=4 threads=200, memory=1.08 TB>"
      ]
     },
     "execution_count": 2,
     "metadata": {},
     "output_type": "execute_result"
    }
   ],
   "source": [
    "cluster = LocalCUDACluster(threads_per_worker=50)\n",
    "client = Client(cluster)\n",
    "client"
   ]
  },
  {
   "cell_type": "code",
   "execution_count": 3,
   "metadata": {},
   "outputs": [],
   "source": [
    "def select_features ( USE_STR_FEATURES_FLAG = True ):\n",
    "    \"\"\"\n",
    "    Define dataset [ select features and dtypes ]\n",
    "    by default we include features capturing :\n",
    "    time period, airline, origin/destination, departure delay, airtime, distance\n",
    "    \n",
    "        Attributes:\n",
    "        USE_STR_FEATURES_FLAG (bool): whether to include string features (default: False)\n",
    "        \n",
    "    \"\"\"\n",
    "    str_dtypes = { \\\n",
    "        'Reporting_Airline': 'str',\n",
    "        'IATA_CODE_Reporting_Airline' : 'str',\n",
    "        'Origin' : 'str',\n",
    "        'OriginCityName':'str',\n",
    "        'Dest' : 'str',\n",
    "        'DestCityName':'str',\n",
    "        'Cancelled' : 'str' \n",
    "    }\n",
    "    str_cols = list( str_dtypes.keys() )\n",
    "    \n",
    "    non_str_dtypes = { \\\n",
    "        'Flight_Number_Reporting_Airline': 'float32',\n",
    "        'Year' : 'float32', 'Quarter' :'float32', 'Month' : 'float32', 'DayOfWeek' : 'float32',\n",
    "        'DOT_ID_Reporting_Airline' : 'float32',\n",
    "        'OriginCityMarketID':'float32', 'DestCityMarketID':'float32',\n",
    "        'DepTime' : 'float32', 'DepDelay' : 'float32', 'DepDel15' : 'int',\n",
    "        'ArrTime' : 'float32', 'ArrDelay' : 'float32',  'ArrDel15': 'int',\n",
    "        'CRSDepTime' : 'float32', 'CRSArrTime' : 'float32',\n",
    "        'AirTime' : 'float32',\n",
    "        'Distance' : 'float32'                  \n",
    "    }    \n",
    "    non_str_cols = list ( non_str_dtypes.keys() )\n",
    "    \n",
    "    cols = []; dtypes = {}\n",
    "\n",
    "    cols += non_str_cols    \n",
    "    dtypes.update( non_str_dtypes )\n",
    "    \n",
    "    if USE_STR_FEATURES_FLAG:\n",
    "        cols += str_cols\n",
    "        dtypes.update(str_dtypes)\n",
    "        \n",
    "    # assert( len ( list( set(non_str_cols).union( set(str_cols) ) ) ) == ( len(non_str_cols) + len(str_cols) ) )\n",
    "    return cols, dtypes"
   ]
  },
  {
   "cell_type": "code",
   "execution_count": 4,
   "metadata": {},
   "outputs": [],
   "source": [
    "cols, dtypes = select_features()"
   ]
  },
  {
   "cell_type": "code",
   "execution_count": 5,
   "metadata": {},
   "outputs": [
    {
     "name": "stdout",
     "output_type": "stream",
     "text": [
      "--2021-03-13 00:23:54--  https://transtats.bts.gov/PREZIP/On_Time_Reporting_Carrier_On_Time_Performance_1987_present_2019_6.zip\n",
      "Resolving transtats.bts.gov (transtats.bts.gov)... 204.68.194.70\n",
      "Connecting to transtats.bts.gov (transtats.bts.gov)|204.68.194.70|:443... connected.\n",
      "WARNING: cannot verify transtats.bts.gov's certificate, issued by ‘CN=Entrust Certification Authority - L1K,OU=(c) 2012 Entrust\\\\, Inc. - for authorized use only,OU=See www.entrust.net/legal-terms,O=Entrust\\\\, Inc.,C=US’:\n",
      "  Unable to locally verify the issuer's authority.\n",
      "HTTP request sent, awaiting response... 200 OK\n",
      "Length: 33597362 (32M) [application/x-zip-compressed]\n",
      "Saving to: ‘On_Time_Reporting_Carrier_On_Time_Performance_1987_present_2019_6.zip’\n",
      "\n",
      "On_Time_Reporting_C 100%[===================>]  32.04M  1.58MB/s    in 26s     \n",
      "\n",
      "2021-03-13 00:24:20 (1.25 MB/s) - ‘On_Time_Reporting_Carrier_On_Time_Performance_1987_present_2019_6.zip’ saved [33597362/33597362]\n",
      "\n"
     ]
    }
   ],
   "source": [
    "!wget --no-check-certificate https://transtats.bts.gov/PREZIP/On_Time_Reporting_Carrier_On_Time_Performance_1987_present_2019_6.zip"
   ]
  },
  {
   "cell_type": "code",
   "execution_count": 6,
   "metadata": {},
   "outputs": [
    {
     "name": "stdout",
     "output_type": "stream",
     "text": [
      "Archive:  On_Time_Reporting_Carrier_On_Time_Performance_1987_present_2019_6.zip\n",
      "  inflating: On_Time_Reporting_Carrier_On_Time_Performance_(1987_present)_2019_6.csv  \n",
      "  inflating: readme.html             \n"
     ]
    }
   ],
   "source": [
    "!unzip -o *.zip"
   ]
  },
  {
   "cell_type": "code",
   "execution_count": 7,
   "metadata": {},
   "outputs": [
    {
     "name": "stdout",
     "output_type": "stream",
     "text": [
      "/workspace/ml\n"
     ]
    }
   ],
   "source": [
    "!pwd"
   ]
  },
  {
   "cell_type": "code",
   "execution_count": 8,
   "metadata": {},
   "outputs": [
    {
     "name": "stdout",
     "output_type": "stream",
     "text": [
      " benchmark.py\n",
      " dask-worker-space\n",
      " data\n",
      " data_loader.ipynb\n",
      " Dockerfile-ml\n",
      " hostfs\n",
      " images\n",
      " latest_ml_100\n",
      " ML_100.ipynb\n",
      "'On_Time_Reporting_Carrier_On_Time_Performance_(1987_present)_2019_6.csv'\n",
      " On_Time_Reporting_Carrier_On_Time_Performance_1987_present_2019_6.zip\n",
      " readme.html\n",
      " teach_ML.py\n"
     ]
    }
   ],
   "source": [
    "!ls"
   ]
  },
  {
   "cell_type": "code",
   "execution_count": 9,
   "metadata": {},
   "outputs": [],
   "source": [
    "csvfile = \"On_Time_Reporting_Carrier_On_Time_Performance_(1987_present)_2019_6.csv\"\n",
    "data=dask_cudf.read_csv(csvfile, chunksize=None, usecols=cols, dtype=dtypes)    "
   ]
  },
  {
   "cell_type": "code",
   "execution_count": 10,
   "metadata": {},
   "outputs": [
    {
     "name": "stdout",
     "output_type": "stream",
     "text": [
      "CPU times: user 173 ms, sys: 169 ms, total: 342 ms\n",
      "Wall time: 3.04 s\n"
     ]
    }
   ],
   "source": [
    "%%time\n",
    "# force dask_cudf distributed dataframe onto a single gpu and single cudf.DataFrame prior to writing to csv\n",
    "cudf_dataframe = data.compute()"
   ]
  },
  {
   "cell_type": "code",
   "execution_count": 23,
   "metadata": {},
   "outputs": [],
   "source": [
    "data_destination='/workspace/ml/data'"
   ]
  },
  {
   "cell_type": "code",
   "execution_count": 24,
   "metadata": {},
   "outputs": [],
   "source": [
    "!mkdir -p data_destination"
   ]
  },
  {
   "cell_type": "code",
   "execution_count": 25,
   "metadata": {},
   "outputs": [],
   "source": [
    "csv_path =  f'{data_destination}/2019_airlines.csv'"
   ]
  },
  {
   "cell_type": "code",
   "execution_count": 26,
   "metadata": {},
   "outputs": [
    {
     "data": {
      "text/plain": [
       "'/workspace/ml/data/2019_airlines.csv'"
      ]
     },
     "execution_count": 26,
     "metadata": {},
     "output_type": "execute_result"
    }
   ],
   "source": [
    "csv_path"
   ]
  },
  {
   "cell_type": "code",
   "execution_count": 27,
   "metadata": {},
   "outputs": [],
   "source": [
    "cudf_dataframe.to_csv( csv_path )"
   ]
  },
  {
   "cell_type": "code",
   "execution_count": 28,
   "metadata": {},
   "outputs": [],
   "source": [
    "test = cudf.read_csv(csv_path, index_col=0)"
   ]
  },
  {
   "cell_type": "code",
   "execution_count": 29,
   "metadata": {},
   "outputs": [
    {
     "name": "stdout",
     "output_type": "stream",
     "text": [
      "98M\t/workspace/ml/data/2019_airlines.csv\n",
      "50M\t/workspace/ml/data/2019_airlines_full.csv.tgz.ad\n",
      "8.2M\t/workspace/ml/data/airports.csv\n",
      "516K\t/workspace/ml/data/2019_airlines_full.csv.tgz.ae\n",
      "51M\t/workspace/ml/data/2019_airlines_full.csv.tgz.ab\n",
      "44K\t/workspace/ml/data/carriers.csv\n",
      "51M\t/workspace/ml/data/2019_airlines_full.csv.tgz.aa\n",
      "51M\t/workspace/ml/data/2019_airlines_full.csv.tgz.ac\n"
     ]
    }
   ],
   "source": [
    "!du -ha {data_destination} | grep csv"
   ]
  },
  {
   "cell_type": "code",
   "execution_count": 30,
   "metadata": {},
   "outputs": [
    {
     "data": {
      "text/html": [
       "<div>\n",
       "<style scoped>\n",
       "    .dataframe tbody tr th:only-of-type {\n",
       "        vertical-align: middle;\n",
       "    }\n",
       "\n",
       "    .dataframe tbody tr th {\n",
       "        vertical-align: top;\n",
       "    }\n",
       "\n",
       "    .dataframe thead th {\n",
       "        text-align: right;\n",
       "    }\n",
       "</style>\n",
       "<table border=\"1\" class=\"dataframe\">\n",
       "  <thead>\n",
       "    <tr style=\"text-align: right;\">\n",
       "      <th></th>\n",
       "      <th>Year</th>\n",
       "      <th>Quarter</th>\n",
       "      <th>Month</th>\n",
       "      <th>DayOfWeek</th>\n",
       "      <th>Reporting_Airline</th>\n",
       "      <th>DOT_ID_Reporting_Airline</th>\n",
       "      <th>IATA_CODE_Reporting_Airline</th>\n",
       "      <th>Flight_Number_Reporting_Airline</th>\n",
       "      <th>OriginCityMarketID</th>\n",
       "      <th>Origin</th>\n",
       "      <th>...</th>\n",
       "      <th>DepTime</th>\n",
       "      <th>DepDelay</th>\n",
       "      <th>DepDel15</th>\n",
       "      <th>CRSArrTime</th>\n",
       "      <th>ArrTime</th>\n",
       "      <th>ArrDelay</th>\n",
       "      <th>ArrDel15</th>\n",
       "      <th>Cancelled</th>\n",
       "      <th>AirTime</th>\n",
       "      <th>Distance</th>\n",
       "    </tr>\n",
       "  </thead>\n",
       "  <tbody>\n",
       "    <tr>\n",
       "      <th>0</th>\n",
       "      <td>2019.0</td>\n",
       "      <td>2.0</td>\n",
       "      <td>6.0</td>\n",
       "      <td>6.0</td>\n",
       "      <td>F9</td>\n",
       "      <td>20436.0</td>\n",
       "      <td>F9</td>\n",
       "      <td>1682.0</td>\n",
       "      <td>34492.0</td>\n",
       "      <td>RDU</td>\n",
       "      <td>...</td>\n",
       "      <td>&lt;NA&gt;</td>\n",
       "      <td>&lt;NA&gt;</td>\n",
       "      <td>&lt;NA&gt;</td>\n",
       "      <td>956.0</td>\n",
       "      <td>&lt;NA&gt;</td>\n",
       "      <td>&lt;NA&gt;</td>\n",
       "      <td>&lt;NA&gt;</td>\n",
       "      <td>1.00</td>\n",
       "      <td>&lt;NA&gt;</td>\n",
       "      <td>612.0</td>\n",
       "    </tr>\n",
       "    <tr>\n",
       "      <th>1</th>\n",
       "      <td>2019.0</td>\n",
       "      <td>2.0</td>\n",
       "      <td>6.0</td>\n",
       "      <td>6.0</td>\n",
       "      <td>F9</td>\n",
       "      <td>20436.0</td>\n",
       "      <td>F9</td>\n",
       "      <td>1683.0</td>\n",
       "      <td>30721.0</td>\n",
       "      <td>BOS</td>\n",
       "      <td>...</td>\n",
       "      <td>&lt;NA&gt;</td>\n",
       "      <td>&lt;NA&gt;</td>\n",
       "      <td>&lt;NA&gt;</td>\n",
       "      <td>1252.0</td>\n",
       "      <td>&lt;NA&gt;</td>\n",
       "      <td>&lt;NA&gt;</td>\n",
       "      <td>&lt;NA&gt;</td>\n",
       "      <td>1.00</td>\n",
       "      <td>&lt;NA&gt;</td>\n",
       "      <td>612.0</td>\n",
       "    </tr>\n",
       "    <tr>\n",
       "      <th>2</th>\n",
       "      <td>2019.0</td>\n",
       "      <td>2.0</td>\n",
       "      <td>6.0</td>\n",
       "      <td>6.0</td>\n",
       "      <td>F9</td>\n",
       "      <td>20436.0</td>\n",
       "      <td>F9</td>\n",
       "      <td>734.0</td>\n",
       "      <td>30643.0</td>\n",
       "      <td>BKG</td>\n",
       "      <td>...</td>\n",
       "      <td>&lt;NA&gt;</td>\n",
       "      <td>&lt;NA&gt;</td>\n",
       "      <td>&lt;NA&gt;</td>\n",
       "      <td>2318.0</td>\n",
       "      <td>&lt;NA&gt;</td>\n",
       "      <td>&lt;NA&gt;</td>\n",
       "      <td>&lt;NA&gt;</td>\n",
       "      <td>1.00</td>\n",
       "      <td>&lt;NA&gt;</td>\n",
       "      <td>471.0</td>\n",
       "    </tr>\n",
       "    <tr>\n",
       "      <th>3</th>\n",
       "      <td>2019.0</td>\n",
       "      <td>2.0</td>\n",
       "      <td>6.0</td>\n",
       "      <td>6.0</td>\n",
       "      <td>F9</td>\n",
       "      <td>20436.0</td>\n",
       "      <td>F9</td>\n",
       "      <td>2000.0</td>\n",
       "      <td>32211.0</td>\n",
       "      <td>LAS</td>\n",
       "      <td>...</td>\n",
       "      <td>21.0</td>\n",
       "      <td>3.0</td>\n",
       "      <td>0</td>\n",
       "      <td>715.0</td>\n",
       "      <td>650.0</td>\n",
       "      <td>-25.0</td>\n",
       "      <td>0</td>\n",
       "      <td>0.00</td>\n",
       "      <td>191.0</td>\n",
       "      <td>1747.0</td>\n",
       "    </tr>\n",
       "    <tr>\n",
       "      <th>4</th>\n",
       "      <td>2019.0</td>\n",
       "      <td>2.0</td>\n",
       "      <td>6.0</td>\n",
       "      <td>6.0</td>\n",
       "      <td>F9</td>\n",
       "      <td>20436.0</td>\n",
       "      <td>F9</td>\n",
       "      <td>2000.0</td>\n",
       "      <td>30397.0</td>\n",
       "      <td>ATL</td>\n",
       "      <td>...</td>\n",
       "      <td>753.0</td>\n",
       "      <td>-7.0</td>\n",
       "      <td>0</td>\n",
       "      <td>1021.0</td>\n",
       "      <td>959.0</td>\n",
       "      <td>-22.0</td>\n",
       "      <td>0</td>\n",
       "      <td>0.00</td>\n",
       "      <td>110.0</td>\n",
       "      <td>795.0</td>\n",
       "    </tr>\n",
       "  </tbody>\n",
       "</table>\n",
       "<p>5 rows × 25 columns</p>\n",
       "</div>"
      ],
      "text/plain": [
       "     Year  Quarter  Month  DayOfWeek Reporting_Airline  \\\n",
       "0  2019.0      2.0    6.0        6.0                F9   \n",
       "1  2019.0      2.0    6.0        6.0                F9   \n",
       "2  2019.0      2.0    6.0        6.0                F9   \n",
       "3  2019.0      2.0    6.0        6.0                F9   \n",
       "4  2019.0      2.0    6.0        6.0                F9   \n",
       "\n",
       "   DOT_ID_Reporting_Airline IATA_CODE_Reporting_Airline  \\\n",
       "0                   20436.0                          F9   \n",
       "1                   20436.0                          F9   \n",
       "2                   20436.0                          F9   \n",
       "3                   20436.0                          F9   \n",
       "4                   20436.0                          F9   \n",
       "\n",
       "   Flight_Number_Reporting_Airline  OriginCityMarketID Origin  ... DepTime  \\\n",
       "0                           1682.0             34492.0    RDU  ...    <NA>   \n",
       "1                           1683.0             30721.0    BOS  ...    <NA>   \n",
       "2                            734.0             30643.0    BKG  ...    <NA>   \n",
       "3                           2000.0             32211.0    LAS  ...    21.0   \n",
       "4                           2000.0             30397.0    ATL  ...   753.0   \n",
       "\n",
       "  DepDelay DepDel15 CRSArrTime  ArrTime ArrDelay ArrDel15 Cancelled AirTime  \\\n",
       "0     <NA>     <NA>      956.0     <NA>     <NA>     <NA>      1.00    <NA>   \n",
       "1     <NA>     <NA>     1252.0     <NA>     <NA>     <NA>      1.00    <NA>   \n",
       "2     <NA>     <NA>     2318.0     <NA>     <NA>     <NA>      1.00    <NA>   \n",
       "3      3.0        0      715.0    650.0    -25.0        0      0.00   191.0   \n",
       "4     -7.0        0     1021.0    959.0    -22.0        0      0.00   110.0   \n",
       "\n",
       "  Distance  \n",
       "0    612.0  \n",
       "1    612.0  \n",
       "2    471.0  \n",
       "3   1747.0  \n",
       "4    795.0  \n",
       "\n",
       "[5 rows x 25 columns]"
      ]
     },
     "execution_count": 30,
     "metadata": {},
     "output_type": "execute_result"
    }
   ],
   "source": [
    "cudf_dataframe.head()"
   ]
  }
 ],
 "metadata": {
  "kernelspec": {
   "display_name": "Python 3",
   "language": "python",
   "name": "python3"
  },
  "language_info": {
   "codemirror_mode": {
    "name": "ipython",
    "version": 3
   },
   "file_extension": ".py",
   "mimetype": "text/x-python",
   "name": "python",
   "nbconvert_exporter": "python",
   "pygments_lexer": "ipython3",
   "version": "3.6.9"
  }
 },
 "nbformat": 4,
 "nbformat_minor": 4
}
