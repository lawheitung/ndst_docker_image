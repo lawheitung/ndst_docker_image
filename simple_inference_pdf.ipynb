{
 "cells": [
  {
   "cell_type": "markdown",
   "metadata": {},
   "source": [
    "# Text Classification with BERT using Neural Modules - Inference\n"
   ]
  },
  {
   "cell_type": "markdown",
   "metadata": {},
   "source": [
    "Import all required modules/functions/classes."
   ]
  },
  {
   "cell_type": "code",
   "execution_count": 1,
   "metadata": {},
   "outputs": [
    {
     "name": "stderr",
     "output_type": "stream",
     "text": [
      "[NeMo W 2021-08-18 05:14:52 audio_preprocessing:56] Could not import torchaudio. Some features might not work.\n"
     ]
    }
   ],
   "source": [
    "import nemo\n",
    "import nemo.collections.nlp as nemo_nlp\n",
    "from nemo.collections.nlp.data.datasets import BertTextClassificationDataset\n",
    "from nemo.collections.nlp.nm.data_layers.text_classification_datalayer import BertTextClassificationDataLayer\n",
    "from nemo.collections.nlp.nm.trainables import SequenceClassifier\n",
    "\n",
    "from nemo.backends.pytorch.common import CrossEntropyLossNM\n",
    "from nemo.utils.lr_policies import get_lr_policy\n",
    "from nemo.collections.nlp.callbacks.text_classification_callback import eval_iter_callback, eval_epochs_done_callback\n",
    "\n",
    "import os\n",
    "import json\n",
    "import math\n",
    "import numpy as np\n",
    "import pandas as pd\n",
    "pd.options.display.max_colwidth = -1\n",
    "\n",
    "import matplotlib.pyplot as plt\n",
    "from sklearn.manifold import TSNE\n",
    "%matplotlib inline\n",
    "\n",
    "import torch\n",
    "\n",
    "from netapp_jupyter_utils import netappSnapshotCreate, netappGetSnapshots, netappRestoreSnapshot\n",
    "from datetime import datetime"
   ]
  },
  {
   "cell_type": "markdown",
   "metadata": {},
   "source": [
    "# Inference Pipeline"
   ]
  },
  {
   "cell_type": "markdown",
   "metadata": {},
   "source": [
    "The following steps set up and execute the inference pipeline using the real-world data set you will be working with."
   ]
  },
  {
   "cell_type": "markdown",
   "metadata": {},
   "source": [
    "## Recreate Model Architectures"
   ]
  },
  {
   "cell_type": "markdown",
   "metadata": {},
   "source": [
    "Load up the model. If you watch your utilization tabs you will see GPU memory utilization increase somewhat."
   ]
  },
  {
   "cell_type": "markdown",
   "metadata": {},
   "source": []
  },
  {
   "cell_type": "markdown",
   "metadata": {},
   "source": [
    "## Load Trained Checkpoints"
   ]
  },
  {
   "cell_type": "markdown",
   "metadata": {},
   "source": [
    "As you load the trained checkpoints, you will see GPU memory utilization increase further."
   ]
  },
  {
   "cell_type": "markdown",
   "metadata": {},
   "source": [
    "..."
   ]
  },
  {
   "cell_type": "markdown",
   "metadata": {},
   "source": [
    "## Single Sentence Classification Inference"
   ]
  },
  {
   "cell_type": "code",
   "execution_count": 4,
   "metadata": {
    "jupyter": {
     "source_hidden": true
    }
   },
   "outputs": [],
   "source": [
    "def classify_sentence(nf, tokenizer, bert, mlp, sentence):\n",
    "    sentence = sentence.lower()\n",
    "    tmp_file = \"/tmp/tmp_sentence.tsv\"\n",
    "    with open(tmp_file, 'w+') as tmp_tsv:\n",
    "        header = 'sentence\\tlabel\\n'\n",
    "        line = sentence + '\\t0\\n'\n",
    "        tmp_tsv.writelines([header, line])\n",
    "\n",
    "    tmp_data = BertTextClassificationDataLayer(input_file=tmp_file,\n",
    "                                               tokenizer=tokenizer,\n",
    "                                               max_seq_length=128,\n",
    "                                               batch_size=1)\n",
    "    \n",
    "    tmp_input, tmp_token_types, tmp_attn_mask, _ = tmp_data()\n",
    "    tmp_embeddings = bert(input_ids=tmp_input,\n",
    "                          token_type_ids=tmp_token_types,\n",
    "                          attention_mask=tmp_attn_mask)\n",
    "    tmp_logits = mlp(hidden_states=tmp_embeddings)\n",
    "    tmp_logits_tensors = nf.infer(tensors=[tmp_logits, tmp_embeddings])\n",
    "    tmp_probs = torch.nn.functional.softmax(torch.cat(tmp_logits_tensors[0])).numpy()[:, 1] \n",
    "    print(f'{sentence} | {tmp_probs[0]}')"
   ]
  },
  {
   "cell_type": "markdown",
   "metadata": {
    "jupyter": {
     "source_hidden": true
    }
   },
   "source": [
    "Execute the inference. If you get a deprecation warning during this execution, you can safely ignore it. "
   ]
  },
  {
   "cell_type": "code",
   "execution_count": 5,
   "metadata": {
    "collapsed": true,
    "jupyter": {
     "outputs_hidden": true,
     "source_hidden": true
    }
   },
   "outputs": [
    {
     "name": "stdout",
     "output_type": "stream",
     "text": [
      "[NeMo I 2021-08-18 05:15:07 text_classification_dataset:82] /tmp/tmp_sentence.tsv: 1\n",
      "[NeMo I 2021-08-18 05:15:07 data_preprocessing:250] Min: 11 |                  Max: 11 |                  Mean: 11.0 |                  Median: 11.0\n",
      "[NeMo I 2021-08-18 05:15:07 data_preprocessing:252] 75 percentile: 11.0\n",
      "[NeMo I 2021-08-18 05:15:07 data_preprocessing:253] 99 percentile: 11.0\n",
      "[NeMo I 2021-08-18 05:15:07 text_classification_dataset:118] 0 out of 1                         sentences with more than 128 subtokens.\n",
      "[NeMo I 2021-08-18 05:15:07 text_classification_dataset:175] *** Example ***\n",
      "[NeMo I 2021-08-18 05:15:07 text_classification_dataset:176] example_index: 0\n",
      "[NeMo I 2021-08-18 05:15:07 text_classification_dataset:177] subtokens: [CLS] point break is the best movie of all time [SEP]\n",
      "[NeMo I 2021-08-18 05:15:07 text_classification_dataset:178] sent_label: 0\n",
      "[NeMo I 2021-08-18 05:15:07 text_classification_dataset:179] input_ids: 101 2391 3338 2003 1996 2190 3185 1997 2035 2051 102 0 0 0 0 0 0 0 0 0 0 0 0 0 0 0 0 0 0 0 0 0 0 0 0 0 0 0 0 0 0 0 0 0 0 0 0 0 0 0 0 0 0 0 0 0 0 0 0 0 0 0 0 0 0 0 0 0 0 0 0 0 0 0 0 0 0 0 0 0 0 0 0 0 0 0 0 0 0 0 0 0 0 0 0 0 0 0 0 0 0 0 0 0 0 0 0 0 0 0 0 0 0 0 0 0 0 0 0 0 0 0 0 0 0 0 0 0\n",
      "[NeMo I 2021-08-18 05:15:07 text_classification_dataset:180] input_mask: 1 1 1 1 1 1 1 1 1 1 1 0 0 0 0 0 0 0 0 0 0 0 0 0 0 0 0 0 0 0 0 0 0 0 0 0 0 0 0 0 0 0 0 0 0 0 0 0 0 0 0 0 0 0 0 0 0 0 0 0 0 0 0 0 0 0 0 0 0 0 0 0 0 0 0 0 0 0 0 0 0 0 0 0 0 0 0 0 0 0 0 0 0 0 0 0 0 0 0 0 0 0 0 0 0 0 0 0 0 0 0 0 0 0 0 0 0 0 0 0 0 0 0 0 0 0 0 0\n",
      "Selected optimization level O1:  Insert automatic casts around Pytorch functions and Tensor methods.\n",
      "\n",
      "Defaults for this optimization level are:\n",
      "enabled                : True\n",
      "opt_level              : O1\n",
      "cast_model_type        : None\n",
      "patch_torch_functions  : True\n",
      "keep_batchnorm_fp32    : None\n",
      "master_weights         : None\n",
      "loss_scale             : dynamic\n",
      "Processing user overrides (additional kwargs that are not None)...\n",
      "After processing overrides, optimization options are:\n",
      "enabled                : True\n",
      "opt_level              : O1\n",
      "cast_model_type        : None\n",
      "patch_torch_functions  : True\n",
      "keep_batchnorm_fp32    : None\n",
      "master_weights         : None\n",
      "loss_scale             : dynamic\n",
      "[NeMo I 2021-08-18 05:15:07 actions:695] Evaluating batch 0 out of 1\n",
      "point break is the best movie of all time | 0.9997584223747253\n",
      "[NeMo I 2021-08-18 05:15:08 text_classification_dataset:82] /tmp/tmp_sentence.tsv: 1\n",
      "[NeMo I 2021-08-18 05:15:08 data_preprocessing:250] Min: 15 |                  Max: 15 |                  Mean: 15.0 |                  Median: 15.0\n",
      "[NeMo I 2021-08-18 05:15:08 data_preprocessing:252] 75 percentile: 15.0\n",
      "[NeMo I 2021-08-18 05:15:08 data_preprocessing:253] 99 percentile: 15.0\n",
      "[NeMo I 2021-08-18 05:15:08 text_classification_dataset:118] 0 out of 1                         sentences with more than 128 subtokens.\n",
      "[NeMo I 2021-08-18 05:15:08 text_classification_dataset:175] *** Example ***\n",
      "[NeMo I 2021-08-18 05:15:08 text_classification_dataset:176] example_index: 0\n",
      "[NeMo I 2021-08-18 05:15:08 text_classification_dataset:177] subtokens: [CLS] the movie was a wonderful exercise in understanding the struggles of native americans [SEP]\n",
      "[NeMo I 2021-08-18 05:15:08 text_classification_dataset:178] sent_label: 0\n",
      "[NeMo I 2021-08-18 05:15:08 text_classification_dataset:179] input_ids: 101 1996 3185 2001 1037 6919 6912 1999 4824 1996 11785 1997 3128 4841 102 0 0 0 0 0 0 0 0 0 0 0 0 0 0 0 0 0 0 0 0 0 0 0 0 0 0 0 0 0 0 0 0 0 0 0 0 0 0 0 0 0 0 0 0 0 0 0 0 0 0 0 0 0 0 0 0 0 0 0 0 0 0 0 0 0 0 0 0 0 0 0 0 0 0 0 0 0 0 0 0 0 0 0 0 0 0 0 0 0 0 0 0 0 0 0 0 0 0 0 0 0 0 0 0 0 0 0 0 0 0 0 0 0\n",
      "[NeMo I 2021-08-18 05:15:08 text_classification_dataset:180] input_mask: 1 1 1 1 1 1 1 1 1 1 1 1 1 1 1 0 0 0 0 0 0 0 0 0 0 0 0 0 0 0 0 0 0 0 0 0 0 0 0 0 0 0 0 0 0 0 0 0 0 0 0 0 0 0 0 0 0 0 0 0 0 0 0 0 0 0 0 0 0 0 0 0 0 0 0 0 0 0 0 0 0 0 0 0 0 0 0 0 0 0 0 0 0 0 0 0 0 0 0 0 0 0 0 0 0 0 0 0 0 0 0 0 0 0 0 0 0 0 0 0 0 0 0 0 0 0 0 0\n"
     ]
    },
    {
     "name": "stderr",
     "output_type": "stream",
     "text": [
      "/opt/conda/lib/python3.6/site-packages/apex/amp/wrap.py:28: UserWarning: Implicit dimension choice for softmax has been deprecated. Change the call to include dim=X as an argument.\n",
      "  return orig_fn(*new_args, **kwargs)\n"
     ]
    },
    {
     "name": "stdout",
     "output_type": "stream",
     "text": [
      "[NeMo I 2021-08-18 05:15:08 actions:695] Evaluating batch 0 out of 1\n",
      "the movie was a wonderful exercise in understanding the struggles of native americans | 0.9998273253440857\n",
      "[NeMo I 2021-08-18 05:15:09 text_classification_dataset:82] /tmp/tmp_sentence.tsv: 1\n",
      "[NeMo I 2021-08-18 05:15:09 data_preprocessing:250] Min: 16 |                  Max: 16 |                  Mean: 16.0 |                  Median: 16.0\n",
      "[NeMo I 2021-08-18 05:15:09 data_preprocessing:252] 75 percentile: 16.0\n",
      "[NeMo I 2021-08-18 05:15:09 data_preprocessing:253] 99 percentile: 16.0\n",
      "[NeMo I 2021-08-18 05:15:09 text_classification_dataset:118] 0 out of 1                         sentences with more than 128 subtokens.\n",
      "[NeMo I 2021-08-18 05:15:09 text_classification_dataset:175] *** Example ***\n",
      "[NeMo I 2021-08-18 05:15:09 text_classification_dataset:176] example_index: 0\n",
      "[NeMo I 2021-08-18 05:15:09 text_classification_dataset:177] subtokens: [CLS] the performance of diego luna had me excited and annoyed at the same time [SEP]\n",
      "[NeMo I 2021-08-18 05:15:09 text_classification_dataset:178] sent_label: 0\n",
      "[NeMo I 2021-08-18 05:15:09 text_classification_dataset:179] input_ids: 101 1996 2836 1997 5277 12909 2018 2033 7568 1998 11654 2012 1996 2168 2051 102 0 0 0 0 0 0 0 0 0 0 0 0 0 0 0 0 0 0 0 0 0 0 0 0 0 0 0 0 0 0 0 0 0 0 0 0 0 0 0 0 0 0 0 0 0 0 0 0 0 0 0 0 0 0 0 0 0 0 0 0 0 0 0 0 0 0 0 0 0 0 0 0 0 0 0 0 0 0 0 0 0 0 0 0 0 0 0 0 0 0 0 0 0 0 0 0 0 0 0 0 0 0 0 0 0 0 0 0 0 0 0 0\n",
      "[NeMo I 2021-08-18 05:15:09 text_classification_dataset:180] input_mask: 1 1 1 1 1 1 1 1 1 1 1 1 1 1 1 1 0 0 0 0 0 0 0 0 0 0 0 0 0 0 0 0 0 0 0 0 0 0 0 0 0 0 0 0 0 0 0 0 0 0 0 0 0 0 0 0 0 0 0 0 0 0 0 0 0 0 0 0 0 0 0 0 0 0 0 0 0 0 0 0 0 0 0 0 0 0 0 0 0 0 0 0 0 0 0 0 0 0 0 0 0 0 0 0 0 0 0 0 0 0 0 0 0 0 0 0 0 0 0 0 0 0 0 0 0 0 0 0\n",
      "[NeMo I 2021-08-18 05:15:09 actions:695] Evaluating batch 0 out of 1\n",
      "the performance of diego luna had me excited and annoyed at the same time | 0.9026095867156982\n",
      "[NeMo I 2021-08-18 05:15:09 text_classification_dataset:82] /tmp/tmp_sentence.tsv: 1\n",
      "[NeMo I 2021-08-18 05:15:09 data_preprocessing:250] Min: 12 |                  Max: 12 |                  Mean: 12.0 |                  Median: 12.0\n",
      "[NeMo I 2021-08-18 05:15:09 data_preprocessing:252] 75 percentile: 12.0\n",
      "[NeMo I 2021-08-18 05:15:09 data_preprocessing:253] 99 percentile: 12.0\n",
      "[NeMo I 2021-08-18 05:15:09 text_classification_dataset:118] 0 out of 1                         sentences with more than 128 subtokens.\n",
      "[NeMo I 2021-08-18 05:15:09 text_classification_dataset:175] *** Example ***\n",
      "[NeMo I 2021-08-18 05:15:09 text_classification_dataset:176] example_index: 0\n",
      "[NeMo I 2021-08-18 05:15:09 text_classification_dataset:177] subtokens: [CLS] matt damon is the only good thing about this film [SEP]\n",
      "[NeMo I 2021-08-18 05:15:09 text_classification_dataset:178] sent_label: 0\n",
      "[NeMo I 2021-08-18 05:15:09 text_classification_dataset:179] input_ids: 101 4717 11317 2003 1996 2069 2204 2518 2055 2023 2143 102 0 0 0 0 0 0 0 0 0 0 0 0 0 0 0 0 0 0 0 0 0 0 0 0 0 0 0 0 0 0 0 0 0 0 0 0 0 0 0 0 0 0 0 0 0 0 0 0 0 0 0 0 0 0 0 0 0 0 0 0 0 0 0 0 0 0 0 0 0 0 0 0 0 0 0 0 0 0 0 0 0 0 0 0 0 0 0 0 0 0 0 0 0 0 0 0 0 0 0 0 0 0 0 0 0 0 0 0 0 0 0 0 0 0 0 0\n",
      "[NeMo I 2021-08-18 05:15:09 text_classification_dataset:180] input_mask: 1 1 1 1 1 1 1 1 1 1 1 1 0 0 0 0 0 0 0 0 0 0 0 0 0 0 0 0 0 0 0 0 0 0 0 0 0 0 0 0 0 0 0 0 0 0 0 0 0 0 0 0 0 0 0 0 0 0 0 0 0 0 0 0 0 0 0 0 0 0 0 0 0 0 0 0 0 0 0 0 0 0 0 0 0 0 0 0 0 0 0 0 0 0 0 0 0 0 0 0 0 0 0 0 0 0 0 0 0 0 0 0 0 0 0 0 0 0 0 0 0 0 0 0 0 0 0 0\n",
      "[NeMo I 2021-08-18 05:15:09 actions:695] Evaluating batch 0 out of 1\n",
      "matt damon is the only good thing about this film | 0.008396700024604797\n"
     ]
    }
   ],
   "source": [
    "sentences = ['point break is the best movie of all time',\n",
    "             'the movie was a wonderful exercise in understanding the struggles of native americans',\n",
    "             'the performance of diego luna had me excited and annoyed at the same time',\n",
    "             'matt damon is the only good thing about this film']\n",
    "\n",
    "for sentence in sentences:\n",
    "    classify_sentence(nf, tokenizer, bert, mlp, sentence)"
   ]
  },
  {
   "cell_type": "markdown",
   "metadata": {},
   "source": [
    "# Visualizing BERT Embeddings After Fine-tuning"
   ]
  },
  {
   "cell_type": "markdown",
   "metadata": {},
   "source": [
    "Now that you have a fine-tuned BERT model, you will run the same assessment you ran during training, this time using the enhanced model. You will see if it produces an improved plot of the \"good\" and \"bad\" sample words."
   ]
  },
  {
   "cell_type": "code",
   "execution_count": 6,
   "metadata": {
    "jupyter": {
     "source_hidden": true
    }
   },
   "outputs": [],
   "source": [
    "spectrum_words = ['abysmal', 'apalling', 'dreadful', 'awful', 'terrible',\n",
    "                  'very bad', 'really bad', 'rubbish', 'unsatisfactory',\n",
    "                  'bad', 'poor', 'great', 'really good', 'very good', 'awesome'\n",
    "                  'fantastic', 'superb', 'brilliant', 'incredible', 'excellent'\n",
    "                  'outstanding', 'perfect']\n",
    "\n",
    "spectrum_file = os.path.join(SPLIT_DATA_DIR, 'positive_negative.tsv')\n",
    "with open(spectrum_file, 'w+') as f:\n",
    "    f.write('sentence\\tlabel')\n",
    "    for word in spectrum_words:\n",
    "        f.write('\\n' + word + '\\t0')\n",
    "        \n",
    "spectrum_df = pd.read_csv(spectrum_file, delimiter='\\t')"
   ]
  },
  {
   "cell_type": "code",
   "execution_count": 7,
   "metadata": {
    "collapsed": true,
    "jupyter": {
     "outputs_hidden": true,
     "source_hidden": true
    }
   },
   "outputs": [
    {
     "name": "stdout",
     "output_type": "stream",
     "text": [
      "[NeMo I 2021-08-18 05:15:10 text_classification_dataset:82] data/SST-2/split/positive_negative.tsv: 20\n",
      "[NeMo I 2021-08-18 05:15:10 data_preprocessing:250] Min: 3 |                  Max: 6 |                  Mean: 3.85 |                  Median: 3.0\n",
      "[NeMo I 2021-08-18 05:15:10 data_preprocessing:252] 75 percentile: 4.25\n",
      "[NeMo I 2021-08-18 05:15:10 data_preprocessing:253] 99 percentile: 6.0\n",
      "[NeMo I 2021-08-18 05:15:10 text_classification_dataset:118] 0 out of 20                         sentences with more than 64 subtokens.\n",
      "[NeMo I 2021-08-18 05:15:10 text_classification_dataset:175] *** Example ***\n",
      "[NeMo I 2021-08-18 05:15:10 text_classification_dataset:176] example_index: 0\n",
      "[NeMo I 2021-08-18 05:15:10 text_classification_dataset:177] subtokens: [CLS] ab ##ys ##mal [SEP]\n",
      "[NeMo I 2021-08-18 05:15:10 text_classification_dataset:178] sent_label: 0\n",
      "[NeMo I 2021-08-18 05:15:10 text_classification_dataset:179] input_ids: 101 11113 7274 9067 102 0 0 0 0 0 0 0 0 0 0 0 0 0 0 0 0 0 0 0 0 0 0 0 0 0 0 0 0 0 0 0 0 0 0 0 0 0 0 0 0 0 0 0 0 0 0 0 0 0 0 0 0 0 0 0 0 0 0 0\n",
      "[NeMo I 2021-08-18 05:15:10 text_classification_dataset:180] input_mask: 1 1 1 1 1 0 0 0 0 0 0 0 0 0 0 0 0 0 0 0 0 0 0 0 0 0 0 0 0 0 0 0 0 0 0 0 0 0 0 0 0 0 0 0 0 0 0 0 0 0 0 0 0 0 0 0 0 0 0 0 0 0 0 0\n",
      "[NeMo I 2021-08-18 05:15:10 text_classification_dataset:175] *** Example ***\n",
      "[NeMo I 2021-08-18 05:15:10 text_classification_dataset:176] example_index: 1\n",
      "[NeMo I 2021-08-18 05:15:10 text_classification_dataset:177] subtokens: [CLS] ap ##all ##ing [SEP]\n",
      "[NeMo I 2021-08-18 05:15:10 text_classification_dataset:178] sent_label: 0\n",
      "[NeMo I 2021-08-18 05:15:10 text_classification_dataset:179] input_ids: 101 9706 8095 2075 102 0 0 0 0 0 0 0 0 0 0 0 0 0 0 0 0 0 0 0 0 0 0 0 0 0 0 0 0 0 0 0 0 0 0 0 0 0 0 0 0 0 0 0 0 0 0 0 0 0 0 0 0 0 0 0 0 0 0 0\n",
      "[NeMo I 2021-08-18 05:15:10 text_classification_dataset:180] input_mask: 1 1 1 1 1 0 0 0 0 0 0 0 0 0 0 0 0 0 0 0 0 0 0 0 0 0 0 0 0 0 0 0 0 0 0 0 0 0 0 0 0 0 0 0 0 0 0 0 0 0 0 0 0 0 0 0 0 0 0 0 0 0 0 0\n",
      "[NeMo I 2021-08-18 05:15:10 text_classification_dataset:175] *** Example ***\n",
      "[NeMo I 2021-08-18 05:15:10 text_classification_dataset:176] example_index: 2\n",
      "[NeMo I 2021-08-18 05:15:10 text_classification_dataset:177] subtokens: [CLS] dreadful [SEP]\n",
      "[NeMo I 2021-08-18 05:15:10 text_classification_dataset:178] sent_label: 0\n",
      "[NeMo I 2021-08-18 05:15:10 text_classification_dataset:179] input_ids: 101 21794 102 0 0 0 0 0 0 0 0 0 0 0 0 0 0 0 0 0 0 0 0 0 0 0 0 0 0 0 0 0 0 0 0 0 0 0 0 0 0 0 0 0 0 0 0 0 0 0 0 0 0 0 0 0 0 0 0 0 0 0 0 0\n",
      "[NeMo I 2021-08-18 05:15:10 text_classification_dataset:180] input_mask: 1 1 1 0 0 0 0 0 0 0 0 0 0 0 0 0 0 0 0 0 0 0 0 0 0 0 0 0 0 0 0 0 0 0 0 0 0 0 0 0 0 0 0 0 0 0 0 0 0 0 0 0 0 0 0 0 0 0 0 0 0 0 0 0\n",
      "[NeMo I 2021-08-18 05:15:10 text_classification_dataset:175] *** Example ***\n",
      "[NeMo I 2021-08-18 05:15:10 text_classification_dataset:176] example_index: 3\n",
      "[NeMo I 2021-08-18 05:15:10 text_classification_dataset:177] subtokens: [CLS] awful [SEP]\n",
      "[NeMo I 2021-08-18 05:15:10 text_classification_dataset:178] sent_label: 0\n",
      "[NeMo I 2021-08-18 05:15:10 text_classification_dataset:179] input_ids: 101 9643 102 0 0 0 0 0 0 0 0 0 0 0 0 0 0 0 0 0 0 0 0 0 0 0 0 0 0 0 0 0 0 0 0 0 0 0 0 0 0 0 0 0 0 0 0 0 0 0 0 0 0 0 0 0 0 0 0 0 0 0 0 0\n",
      "[NeMo I 2021-08-18 05:15:10 text_classification_dataset:180] input_mask: 1 1 1 0 0 0 0 0 0 0 0 0 0 0 0 0 0 0 0 0 0 0 0 0 0 0 0 0 0 0 0 0 0 0 0 0 0 0 0 0 0 0 0 0 0 0 0 0 0 0 0 0 0 0 0 0 0 0 0 0 0 0 0 0\n",
      "[NeMo I 2021-08-18 05:15:10 text_classification_dataset:175] *** Example ***\n",
      "[NeMo I 2021-08-18 05:15:10 text_classification_dataset:176] example_index: 4\n",
      "[NeMo I 2021-08-18 05:15:10 text_classification_dataset:177] subtokens: [CLS] terrible [SEP]\n",
      "[NeMo I 2021-08-18 05:15:10 text_classification_dataset:178] sent_label: 0\n",
      "[NeMo I 2021-08-18 05:15:10 text_classification_dataset:179] input_ids: 101 6659 102 0 0 0 0 0 0 0 0 0 0 0 0 0 0 0 0 0 0 0 0 0 0 0 0 0 0 0 0 0 0 0 0 0 0 0 0 0 0 0 0 0 0 0 0 0 0 0 0 0 0 0 0 0 0 0 0 0 0 0 0 0\n",
      "[NeMo I 2021-08-18 05:15:10 text_classification_dataset:180] input_mask: 1 1 1 0 0 0 0 0 0 0 0 0 0 0 0 0 0 0 0 0 0 0 0 0 0 0 0 0 0 0 0 0 0 0 0 0 0 0 0 0 0 0 0 0 0 0 0 0 0 0 0 0 0 0 0 0 0 0 0 0 0 0 0 0\n"
     ]
    }
   ],
   "source": [
    "# Reformat text\n",
    "spectrum_data = BertTextClassificationDataLayer(input_file=spectrum_file,\n",
    "                                                tokenizer=tokenizer,\n",
    "                                                max_seq_length=MAX_SEQ_LEN,\n",
    "                                                batch_size=BATCH_SIZE)"
   ]
  },
  {
   "cell_type": "code",
   "execution_count": 8,
   "metadata": {
    "collapsed": true,
    "jupyter": {
     "outputs_hidden": true,
     "source_hidden": true
    }
   },
   "outputs": [
    {
     "name": "stdout",
     "output_type": "stream",
     "text": [
      "[NeMo I 2021-08-18 05:15:10 actions:695] Evaluating batch 0 out of 1\n"
     ]
    }
   ],
   "source": [
    "# Use trained model to create embeddings\n",
    "\n",
    "spectrum_input, spectrum_token_types, spectrum_attn_mask, spectrum_labels = spectrum_data()\n",
    "\n",
    "spectrum_embeddings = bert(input_ids=spectrum_input,\n",
    "                           token_type_ids=spectrum_token_types,\n",
    "                           attention_mask=spectrum_attn_mask)\n",
    "\n",
    "spectrum_embeddings_tensors = nf.infer(tensors=[spectrum_embeddings])"
   ]
  },
  {
   "cell_type": "markdown",
   "metadata": {
    "jupyter": {
     "source_hidden": true
    }
   },
   "source": [
    "Now that you have a better-trained model, you should expect to see more clustering of \"good\" and \"bad\" words."
   ]
  },
  {
   "cell_type": "code",
   "execution_count": 9,
   "metadata": {},
   "outputs": [
    {
     "name": "stdout",
     "output_type": "stream",
     "text": [
      "[t-SNE] Computing 19 nearest neighbors...\n",
      "[t-SNE] Indexed 20 samples in 0.001s...\n",
      "[t-SNE] Computed neighbors for 20 samples in 0.002s...\n",
      "[t-SNE] Computed conditional probabilities for sample 20 / 20\n",
      "[t-SNE] Mean sigma: 12.854275\n",
      "[t-SNE] KL divergence after 250 iterations with early exaggeration: 33.022732\n",
      "[t-SNE] KL divergence after 1000 iterations: 0.000504\n"
     ]
    },
    {
     "data": {
      "image/png": "[encoded data removed]",
      "text/plain": [
       "<Figure size 720x720 with 1 Axes>"
      ]
     },
     "metadata": {
      "needs_background": "light"
     },
     "output_type": "display_data"
    }
   ],
   "source": [
    "spectrum_activations = spectrum_embeddings_tensors[0][0][:,0,:].numpy()\n",
    "tsne_spectrum = TSNE(n_components=2, perplexity=10, verbose=1, learning_rate=2,\n",
    "                     random_state=123).fit_transform(spectrum_activations)\n",
    "\n",
    "fig = plt.figure(figsize=(10,10))\n",
    "plt.plot(tsne_spectrum[0:11, 0], tsne_spectrum[0:11, 1], 'rx')\n",
    "plt.plot(tsne_spectrum[11:, 0], tsne_spectrum[11:, 1], 'bo')\n",
    "for (x,y, label) in zip(tsne_spectrum[0:, 0], tsne_spectrum[0:, 1], spectrum_df.sentence.values.tolist() ):\n",
    "    plt.annotate(label, # this is the text\n",
    "                 (x,y), # this is the point to label\n",
    "                 textcoords=\"offset points\", # how to position the text\n",
    "                 xytext=(0,10), # distance from text to points (x,y)\n",
    "                 ha='center') # horizontal alignment can be left, right or center"
   ]
  },
  {
   "cell_type": "markdown",
   "metadata": {},
   "source": [
    "This new plot show significant clustering of the \"good\" words in the far lower-left corner, and signficant clustering of the \"bad\" words in the far upper-right corner. The enhanced model is doing a much better job of identifying and distinguishng \"good\" and \"bad\" words."
   ]
  },
  {
   "cell_type": "markdown",
   "metadata": {},
   "source": [
    "## Save New Model Version"
   ]
  },
  {
   "cell_type": "markdown",
   "metadata": {},
   "source": [
    "Use NetApp Snapshot technology to near-instaneously save a new version of the enhanced model so that you will be able to revert back to it in the future if necessary."
   ]
  },
  {
   "cell_type": "code",
   "execution_count": 10,
   "metadata": {},
   "outputs": [
    {
     "name": "stdout",
     "output_type": "stream",
     "text": [
      "API Response:  success\n",
      "Snapshot uuid:  420e5159-ffe3-11eb-b34c-0050569f4e90\n",
      "Snapshot name:  enhanced_bert_20210818_044926\n",
      "Snapshot description:  Enhanced BERT model.\n"
     ]
    }
   ],
   "source": [
    "modelTag = 'enhanced_' + trainingRunTag\n",
    "modelDescription = 'Enhanced BERT model.'\n",
    "\n",
    "bert.config.save_pretrained(MODELS_DIR)\n",
    "torch.save(bert.state_dict(), MODELS_DIR + 'pytorch_model.bin') # Save pre-trained model to volume\n",
    "\n",
    "apiResponse, snapshot = netappSnapshotCreate(pvName = modelPvName, snapshotName = modelTag, snapshotComment = modelDescription)\n",
    "\n",
    "print('API Response: ', apiResponse['state'])\n",
    "print('Snapshot uuid: ', snapshot['uuid'])\n",
    "print('Snapshot name: ', snapshot['name'])\n",
    "print('Snapshot description: ', snapshot['comment'])"
   ]
  },
  {
   "cell_type": "markdown",
   "metadata": {},
   "source": [
    "# Explore Saved Models"
   ]
  },
  {
   "cell_type": "markdown",
   "metadata": {},
   "source": [
    "List all of the model versions that you have saved using NetApp Snapshot technology. If for some reason you weren't happy with the results of the newly-trained model, you can always use the snapshot to quickly revert back to one of the previous model versions.\n",
    "\n",
    "Note that you could also use NetApp FlexClone technology to clone any one of these saved models in order to experiment with it in a sandboxed workspace. While this capability is not demonstrated in this lab, you can refer to the [NetApp AI Control Plane Technical Report](https://www.netapp.com/us/media/tr-4798.pdf) for more information."
   ]
  },
  {
   "cell_type": "code",
   "execution_count": 11,
   "metadata": {},
   "outputs": [
    {
     "name": "stdout",
     "output_type": "stream",
     "text": [
      "Model Tag \t\t\t Model Description\n",
      "baseline_bert_20210818_043740 \t Baseline pre-trained BERT model.\n",
      "baseline_bert_20210818_044926 \t Baseline pre-trained BERT model.\n",
      "enhanced_bert_20210818_044926 \t Enhanced BERT model.\n"
     ]
    }
   ],
   "source": [
    "snapshots = netappGetSnapshots(pvName = modelPvName)\n",
    "\n",
    "# Print list of snapshots\n",
    "print('Model Tag', '\\t\\t\\t', 'Model Description')\n",
    "for snapshot in snapshots :\n",
    "    try:\n",
    "        print(snapshot['name'], '\\t', snapshot['comment'])\n",
    "    except Exception:\n",
    "        pass"
   ]
  },
  {
   "cell_type": "markdown",
   "metadata": {},
   "source": [
    "The newly enhanced model is clearly more accurate than the baseline model, as demonstrated by the clustering of \"good\" and \"bad\" words in the above plot. However, \"enhanced\" models are not always more accurate than previously-trained models, so assume that this model is actually less accurate than a previous baseline version, and that you want to restore that previous model. To demonstrate this procedure, you will now use NetApp technology to quickly restore the previous baseline model.\n",
    "\n",
    "Note that restoring a volume to a snapshot destroys any existing snapshots that were taken later on the volume. In this example you are going to restore the volume to the snapshot corresponding to the model's baseline, which will destroy the snapshot of the enhanced model that you just took in the preceding step. If you needed to retain those later snapshots, NetApp FlexClone technology can again help you. While this version of the lab does not include a demonstration of FlexClone, we intend to include it in a future version."
   ]
  },
  {
   "cell_type": "code",
   "execution_count": 12,
   "metadata": {},
   "outputs": [
    {
     "name": "stdout",
     "output_type": "stream",
     "text": [
      "Restoring:  baseline_bert_20210818_044926\n",
      "b'\n",
      "PLAY [Trigger Snapshot Restore] ************************************************\n",
      "\n",
      "TASK [Gathering Facts] *********************************************************\n",
      "ok: [localhost]\n",
      "\n",
      "TASK [snapshot restore ontap command] ******************************************\n",
      "changed: [localhost]\n",
      "\n",
      "PLAY RECAP *********************************************************************\n",
      "localhost                  : ok=2    changed=1    unreachable=0    failed=0    skipped=0    rescued=0    ignored=0   \n",
      "\n",
      "'\n"
     ]
    }
   ],
   "source": [
    "# Restore the Previously Saved Model\n",
    "modelTag = 'baseline_' + trainingRunTag # Model Tag of the model that we wish to restore\n",
    "print('Restoring: ', modelTag)\n",
    "\n",
    "# Restore NetApp snapshot corresponding to model version\n",
    "result = netappRestoreSnapshot(pvName = modelPvName, snapshotName = modelTag)\n",
    "print(result)\n",
    "\n",
    "# Reload model\n",
    "bert = nemo_nlp.nm.trainables.huggingface.BERT(pretrained_model_name = MODELS_DIR)"
   ]
  },
  {
   "cell_type": "markdown",
   "metadata": {},
   "source": [
    "# Re-visualize BERT Embeddings after Restore"
   ]
  },
  {
   "cell_type": "markdown",
   "metadata": {},
   "source": [
    "Visualize the BERT embeddings once again to confirm that you have reloaded the baseline (non-enhanced) BERT model."
   ]
  },
  {
   "cell_type": "code",
   "execution_count": 13,
   "metadata": {
    "jupyter": {
     "source_hidden": true
    }
   },
   "outputs": [],
   "source": [
    "spectrum_words = ['abysmal', 'apalling', 'dreadful', 'awful', 'terrible',\n",
    "                  'very bad', 'really bad', 'rubbish', 'unsatisfactory',\n",
    "                  'bad', 'poor', 'great', 'really good', 'very good', 'awesome'\n",
    "                  'fantastic', 'superb', 'brilliant', 'incredible', 'excellent'\n",
    "                  'outstanding', 'perfect']\n",
    "\n",
    "spectrum_file = os.path.join(SPLIT_DATA_DIR, 'positive_negative.tsv')\n",
    "with open(spectrum_file, 'w+') as f:\n",
    "    f.write('sentence\\tlabel')\n",
    "    for word in spectrum_words:\n",
    "        f.write('\\n' + word + '\\t0')\n",
    "        \n",
    "spectrum_df = pd.read_csv(spectrum_file, delimiter='\\t')"
   ]
  },
  {
   "cell_type": "code",
   "execution_count": 14,
   "metadata": {
    "collapsed": true,
    "jupyter": {
     "outputs_hidden": true,
     "source_hidden": true
    }
   },
   "outputs": [
    {
     "name": "stdout",
     "output_type": "stream",
     "text": [
      "[NeMo I 2021-08-18 05:15:31 text_classification_dataset:82] data/SST-2/split/positive_negative.tsv: 20\n",
      "[NeMo I 2021-08-18 05:15:31 data_preprocessing:250] Min: 3 |                  Max: 6 |                  Mean: 3.85 |                  Median: 3.0\n",
      "[NeMo I 2021-08-18 05:15:31 data_preprocessing:252] 75 percentile: 4.25\n",
      "[NeMo I 2021-08-18 05:15:31 data_preprocessing:253] 99 percentile: 6.0\n",
      "[NeMo I 2021-08-18 05:15:31 text_classification_dataset:118] 0 out of 20                         sentences with more than 64 subtokens.\n",
      "[NeMo I 2021-08-18 05:15:31 text_classification_dataset:175] *** Example ***\n",
      "[NeMo I 2021-08-18 05:15:31 text_classification_dataset:176] example_index: 0\n",
      "[NeMo I 2021-08-18 05:15:31 text_classification_dataset:177] subtokens: [CLS] ab ##ys ##mal [SEP]\n",
      "[NeMo I 2021-08-18 05:15:31 text_classification_dataset:178] sent_label: 0\n",
      "[NeMo I 2021-08-18 05:15:31 text_classification_dataset:179] input_ids: 101 11113 7274 9067 102 0 0 0 0 0 0 0 0 0 0 0 0 0 0 0 0 0 0 0 0 0 0 0 0 0 0 0 0 0 0 0 0 0 0 0 0 0 0 0 0 0 0 0 0 0 0 0 0 0 0 0 0 0 0 0 0 0 0 0\n",
      "[NeMo I 2021-08-18 05:15:31 text_classification_dataset:180] input_mask: 1 1 1 1 1 0 0 0 0 0 0 0 0 0 0 0 0 0 0 0 0 0 0 0 0 0 0 0 0 0 0 0 0 0 0 0 0 0 0 0 0 0 0 0 0 0 0 0 0 0 0 0 0 0 0 0 0 0 0 0 0 0 0 0\n",
      "[NeMo I 2021-08-18 05:15:31 text_classification_dataset:175] *** Example ***\n",
      "[NeMo I 2021-08-18 05:15:31 text_classification_dataset:176] example_index: 1\n",
      "[NeMo I 2021-08-18 05:15:31 text_classification_dataset:177] subtokens: [CLS] ap ##all ##ing [SEP]\n",
      "[NeMo I 2021-08-18 05:15:31 text_classification_dataset:178] sent_label: 0\n",
      "[NeMo I 2021-08-18 05:15:31 text_classification_dataset:179] input_ids: 101 9706 8095 2075 102 0 0 0 0 0 0 0 0 0 0 0 0 0 0 0 0 0 0 0 0 0 0 0 0 0 0 0 0 0 0 0 0 0 0 0 0 0 0 0 0 0 0 0 0 0 0 0 0 0 0 0 0 0 0 0 0 0 0 0\n",
      "[NeMo I 2021-08-18 05:15:31 text_classification_dataset:180] input_mask: 1 1 1 1 1 0 0 0 0 0 0 0 0 0 0 0 0 0 0 0 0 0 0 0 0 0 0 0 0 0 0 0 0 0 0 0 0 0 0 0 0 0 0 0 0 0 0 0 0 0 0 0 0 0 0 0 0 0 0 0 0 0 0 0\n",
      "[NeMo I 2021-08-18 05:15:31 text_classification_dataset:175] *** Example ***\n",
      "[NeMo I 2021-08-18 05:15:31 text_classification_dataset:176] example_index: 2\n",
      "[NeMo I 2021-08-18 05:15:31 text_classification_dataset:177] subtokens: [CLS] dreadful [SEP]\n",
      "[NeMo I 2021-08-18 05:15:31 text_classification_dataset:178] sent_label: 0\n",
      "[NeMo I 2021-08-18 05:15:31 text_classification_dataset:179] input_ids: 101 21794 102 0 0 0 0 0 0 0 0 0 0 0 0 0 0 0 0 0 0 0 0 0 0 0 0 0 0 0 0 0 0 0 0 0 0 0 0 0 0 0 0 0 0 0 0 0 0 0 0 0 0 0 0 0 0 0 0 0 0 0 0 0\n",
      "[NeMo I 2021-08-18 05:15:31 text_classification_dataset:180] input_mask: 1 1 1 0 0 0 0 0 0 0 0 0 0 0 0 0 0 0 0 0 0 0 0 0 0 0 0 0 0 0 0 0 0 0 0 0 0 0 0 0 0 0 0 0 0 0 0 0 0 0 0 0 0 0 0 0 0 0 0 0 0 0 0 0\n",
      "[NeMo I 2021-08-18 05:15:31 text_classification_dataset:175] *** Example ***\n",
      "[NeMo I 2021-08-18 05:15:31 text_classification_dataset:176] example_index: 3\n",
      "[NeMo I 2021-08-18 05:15:31 text_classification_dataset:177] subtokens: [CLS] awful [SEP]\n",
      "[NeMo I 2021-08-18 05:15:31 text_classification_dataset:178] sent_label: 0\n",
      "[NeMo I 2021-08-18 05:15:31 text_classification_dataset:179] input_ids: 101 9643 102 0 0 0 0 0 0 0 0 0 0 0 0 0 0 0 0 0 0 0 0 0 0 0 0 0 0 0 0 0 0 0 0 0 0 0 0 0 0 0 0 0 0 0 0 0 0 0 0 0 0 0 0 0 0 0 0 0 0 0 0 0\n",
      "[NeMo I 2021-08-18 05:15:31 text_classification_dataset:180] input_mask: 1 1 1 0 0 0 0 0 0 0 0 0 0 0 0 0 0 0 0 0 0 0 0 0 0 0 0 0 0 0 0 0 0 0 0 0 0 0 0 0 0 0 0 0 0 0 0 0 0 0 0 0 0 0 0 0 0 0 0 0 0 0 0 0\n",
      "[NeMo I 2021-08-18 05:15:31 text_classification_dataset:175] *** Example ***\n",
      "[NeMo I 2021-08-18 05:15:31 text_classification_dataset:176] example_index: 4\n",
      "[NeMo I 2021-08-18 05:15:31 text_classification_dataset:177] subtokens: [CLS] terrible [SEP]\n",
      "[NeMo I 2021-08-18 05:15:31 text_classification_dataset:178] sent_label: 0\n",
      "[NeMo I 2021-08-18 05:15:31 text_classification_dataset:179] input_ids: 101 6659 102 0 0 0 0 0 0 0 0 0 0 0 0 0 0 0 0 0 0 0 0 0 0 0 0 0 0 0 0 0 0 0 0 0 0 0 0 0 0 0 0 0 0 0 0 0 0 0 0 0 0 0 0 0 0 0 0 0 0 0 0 0\n",
      "[NeMo I 2021-08-18 05:15:31 text_classification_dataset:180] input_mask: 1 1 1 0 0 0 0 0 0 0 0 0 0 0 0 0 0 0 0 0 0 0 0 0 0 0 0 0 0 0 0 0 0 0 0 0 0 0 0 0 0 0 0 0 0 0 0 0 0 0 0 0 0 0 0 0 0 0 0 0 0 0 0 0\n"
     ]
    }
   ],
   "source": [
    "# Reformat text\n",
    "spectrum_data = BertTextClassificationDataLayer(input_file=spectrum_file,\n",
    "                                                tokenizer=tokenizer,\n",
    "                                                max_seq_length=MAX_SEQ_LEN,\n",
    "                                                batch_size=BATCH_SIZE)"
   ]
  },
  {
   "cell_type": "code",
   "execution_count": 15,
   "metadata": {
    "collapsed": true,
    "jupyter": {
     "outputs_hidden": true,
     "source_hidden": true
    }
   },
   "outputs": [
    {
     "name": "stdout",
     "output_type": "stream",
     "text": [
      "[NeMo I 2021-08-18 05:15:32 actions:695] Evaluating batch 0 out of 1\n"
     ]
    }
   ],
   "source": [
    "# Use trained model to create embeddings\n",
    "\n",
    "spectrum_input, spectrum_token_types, spectrum_attn_mask, spectrum_labels = spectrum_data()\n",
    "\n",
    "spectrum_embeddings = bert(input_ids=spectrum_input,\n",
    "                           token_type_ids=spectrum_token_types,\n",
    "                           attention_mask=spectrum_attn_mask)\n",
    "\n",
    "spectrum_embeddings_tensors = nf.infer(tensors=[spectrum_embeddings])"
   ]
  },
  {
   "cell_type": "markdown",
   "metadata": {},
   "source": [
    "Now that you have reloaded the original model, you should expect the plot to once again show less clustering than you saw in the plot for the enhanced model."
   ]
  },
  {
   "cell_type": "code",
   "execution_count": 16,
   "metadata": {},
   "outputs": [
    {
     "name": "stdout",
     "output_type": "stream",
     "text": [
      "[t-SNE] Computing 19 nearest neighbors...\n",
      "[t-SNE] Indexed 20 samples in 0.000s...\n",
      "[t-SNE] Computed neighbors for 20 samples in 0.003s...\n",
      "[t-SNE] Computed conditional probabilities for sample 20 / 20\n",
      "[t-SNE] Mean sigma: 2.210003\n",
      "[t-SNE] KL divergence after 100 iterations with early exaggeration: 35.297852\n",
      "[t-SNE] KL divergence after 700 iterations: 0.162491\n"
     ]
    },
    {
     "data": {
      "image/png": "[encoded data removed]",
      "text/plain": [
       "<Figure size 720x720 with 1 Axes>"
      ]
     },
     "metadata": {
      "needs_background": "light"
     },
     "output_type": "display_data"
    }
   ],
   "source": [
    "spectrum_activations = spectrum_embeddings_tensors[0][0][:,0,:].numpy()\n",
    "tsne_spectrum = TSNE(n_components=2, perplexity=10, verbose=1, learning_rate=2,\n",
    "                     random_state=123).fit_transform(spectrum_activations)\n",
    "\n",
    "fig = plt.figure(figsize=(10,10))\n",
    "plt.plot(tsne_spectrum[0:11, 0], tsne_spectrum[0:11, 1], 'rx')\n",
    "plt.plot(tsne_spectrum[11:, 0], tsne_spectrum[11:, 1], 'bo')\n",
    "for (x,y, label) in zip(tsne_spectrum[0:, 0], tsne_spectrum[0:, 1], spectrum_df.sentence.values.tolist() ):\n",
    "    plt.annotate(label, # this is the text\n",
    "                 (x,y), # this is the point to label\n",
    "                 textcoords=\"offset points\", # how to position the text\n",
    "                 xytext=(0,10), # distance from text to points (x,y)\n",
    "                 ha='center') # horizontal alignment can be left, right or center"
   ]
  },
  {
   "cell_type": "markdown",
   "metadata": {},
   "source": [
    "The words are no longer clustered in this plot."
   ]
  }
 ],
 "metadata": {
  "kernelspec": {
   "display_name": "Python 3",
   "language": "python",
   "name": "python3"
  },
  "language_info": {
   "codemirror_mode": {
    "name": "ipython",
    "version": 3
   },
   "file_extension": ".py",
   "mimetype": "text/x-python",
   "name": "python",
   "nbconvert_exporter": "python",
   "pygments_lexer": "ipython3",
   "version": "3.6.9"
  },
  "pycharm": {
   "stem_cell": {
    "cell_type": "raw",
    "metadata": {
     "collapsed": false
    },
    "source": []
   }
  },
  "toc-autonumbering": false,
  "toc-showcode": false,
  "toc-showmarkdowntxt": false,
  "toc-showtags": false
 },
 "nbformat": 4,
 "nbformat_minor": 4
}
